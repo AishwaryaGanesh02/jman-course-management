{
 "cells": [
  {
   "cell_type": "code",
   "execution_count": null,
   "metadata": {},
   "outputs": [],
   "source": [
    "import pandas as pd\n",
    "\n",
    "# Load your data (assuming you have CSVs; adjust as necessary)\n",
    "users = pd.read_csv('users.csv')\n",
    "designations = pd.read_csv('designations.csv')\n",
    "courses = pd.read_csv('courses.csv')\n",
    "employee_progress = pd.read_csv('employee_progress.csv')\n",
    "user_skills = pd.read_csv('user_skills.csv')\n",
    "designation_skills = pd.read_csv('designation_skills.csv')\n",
    "\n",
    "# Merge data\n",
    "merged_data = employee_progress.merge(users, left_on='userId', right_on='id', suffixes=('', '_user')) \\\n",
    "    .merge(designations, left_on='designationId', right_on='id', suffixes=('', '_designation')) \\\n",
    "    .merge(courses, left_on='courseId', right_on='course_id', suffixes=('', '_course')) \\\n",
    "    .merge(user_skills, on='userId', suffixes=('', '_userSkill')) \\\n",
    "    .merge(designation_skills, left_on='designationId', right_on='designationId', suffixes=('', '_designationSkill'))\n",
    "\n",
    "# Display the merged data\n",
    "print(merged_data.head())\n"
   ]
  },
  {
   "cell_type": "code",
   "execution_count": null,
   "metadata": {},
   "outputs": [],
   "source": []
  },
  {
   "cell_type": "code",
   "execution_count": null,
   "metadata": {},
   "outputs": [],
   "source": []
  },
  {
   "cell_type": "code",
   "execution_count": null,
   "metadata": {},
   "outputs": [],
   "source": []
  },
  {
   "cell_type": "code",
   "execution_count": null,
   "metadata": {},
   "outputs": [],
   "source": []
  },
  {
   "cell_type": "code",
   "execution_count": null,
   "metadata": {},
   "outputs": [],
   "source": []
  },
  {
   "cell_type": "code",
   "execution_count": null,
   "metadata": {},
   "outputs": [],
   "source": []
  }
 ],
 "metadata": {
  "language_info": {
   "name": "python"
  }
 },
 "nbformat": 4,
 "nbformat_minor": 2
}
