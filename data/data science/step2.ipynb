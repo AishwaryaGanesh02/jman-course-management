{
 "cells": [
  {
   "cell_type": "code",
   "execution_count": 2,
   "metadata": {},
   "outputs": [
    {
     "name": "stdout",
     "output_type": "stream",
     "text": [
      "   employeeId  courseId  employeeName  designationId  designationName  \\\n",
      "0           2       331  Allison Chan              5    IT Specialist   \n",
      "1           2       331  Allison Chan              5    IT Specialist   \n",
      "2           2       119  Allison Chan              5    IT Specialist   \n",
      "3           2       119  Allison Chan              5    IT Specialist   \n",
      "4           3       367  Scott Flores              7  Project Manager   \n",
      "\n",
      "                                     courseName    difficulty language  \\\n",
      "0  Programmable even-keeled process improvement  Intermediate  English   \n",
      "1  Programmable even-keeled process improvement  Intermediate  English   \n",
      "2                   Secured interactive product      Beginner    Tamil   \n",
      "3                   Secured interactive product      Beginner    Tamil   \n",
      "4                 Up-sized multimedia challenge      Advanced   German   \n",
      "\n",
      "   totalTime  totalModules progressStatus              lastUpdated  \\\n",
      "0        480            10    in_progress  2024-01-18 01:59:25.000   \n",
      "1        480            10      completed  2024-07-30 06:51:29.000   \n",
      "2        273             8    in_progress  2024-07-18 11:08:39.000   \n",
      "3        273             8      completed  2024-08-17 06:29:20.000   \n",
      "4         79            10    in_progress  2023-10-19 02:23:32.000   \n",
      "\n",
      "   modulesCompleted                                         userSkills  \\\n",
      "0                 6  ['DH+', 'Life Sciences', 'HP Server Hardware',...   \n",
      "1                10  ['DH+', 'Life Sciences', 'HP Server Hardware',...   \n",
      "2                 6  ['DH+', 'Life Sciences', 'HP Server Hardware',...   \n",
      "3                 8  ['DH+', 'Life Sciences', 'HP Server Hardware',...   \n",
      "4                 9  ['Rhino 3D', 'Winning Others Over', 'Military ...   \n",
      "\n",
      "                                        courseSkills  \\\n",
      "0  ['MBAL', 'Press Releases', 'FCoE', 'Product De...   \n",
      "1  ['MBAL', 'Press Releases', 'FCoE', 'Product De...   \n",
      "2          ['HP Procurve', 'PCB Design', 'E-on Vue']   \n",
      "3          ['HP Procurve', 'PCB Design', 'E-on Vue']   \n",
      "4  ['Winning Others Over', 'Military Logistics', ...   \n",
      "\n",
      "                                   designationSkills  \n",
      "0  ['Network Architecture', 'SQF', 'SRDS', 'Syste...  \n",
      "1  ['Network Architecture', 'SQF', 'SRDS', 'Syste...  \n",
      "2  ['Network Architecture', 'SQF', 'SRDS', 'Syste...  \n",
      "3  ['Network Architecture', 'SQF', 'SRDS', 'Syste...  \n",
      "4  ['Karaoke', 'SMO', 'Educational Leadership', '...  \n"
     ]
    }
   ],
   "source": [
    "import pandas as pd\n",
    "\n",
    "# Load your dataset\n",
    "data = pd.read_csv('../data/platinum/report_data.csv')\n",
    "\n",
    "# Inspect the data\n",
    "print(data.head())\n",
    "\n",
    "# Ensure the 'lastUpdated' is in datetime format\n",
    "data['lastUpdated'] = pd.to_datetime(data['lastUpdated'])\n",
    "\n",
    "# Sort the data by employee and lastUpdated\n",
    "data.sort_values(by=['employeeId', 'lastUpdated'], inplace=True)\n"
   ]
  },
  {
   "cell_type": "code",
   "execution_count": 4,
   "metadata": {},
   "outputs": [
    {
     "name": "stdout",
     "output_type": "stream",
     "text": [
      "Note: you may need to restart the kernel to use updated packages.\n"
     ]
    },
    {
     "name": "stderr",
     "output_type": "stream",
     "text": [
      "ERROR: Could not find a version that satisfies the requirement skikit-learn (from versions: none)\n",
      "ERROR: No matching distribution found for skikit-learn\n",
      "\n",
      "[notice] A new release of pip is available: 23.3.2 -> 24.2\n",
      "[notice] To update, run: python.exe -m pip install --upgrade pip\n"
     ]
    }
   ],
   "source": [
    "pip install skikit-learn"
   ]
  },
  {
   "cell_type": "code",
   "execution_count": 3,
   "metadata": {},
   "outputs": [
    {
     "ename": "ModuleNotFoundError",
     "evalue": "No module named 'sklearn'",
     "output_type": "error",
     "traceback": [
      "\u001b[1;31m---------------------------------------------------------------------------\u001b[0m",
      "\u001b[1;31mModuleNotFoundError\u001b[0m                       Traceback (most recent call last)",
      "Cell \u001b[1;32mIn[3], line 5\u001b[0m\n\u001b[0;32m      2\u001b[0m data[\u001b[38;5;124m'\u001b[39m\u001b[38;5;124mprogressPercentage\u001b[39m\u001b[38;5;124m'\u001b[39m] \u001b[38;5;241m=\u001b[39m data[\u001b[38;5;124m'\u001b[39m\u001b[38;5;124mmodulesCompleted\u001b[39m\u001b[38;5;124m'\u001b[39m] \u001b[38;5;241m/\u001b[39m data[\u001b[38;5;124m'\u001b[39m\u001b[38;5;124mtotalModules\u001b[39m\u001b[38;5;124m'\u001b[39m]\n\u001b[0;32m      4\u001b[0m \u001b[38;5;66;03m# Use MultiLabelBinarizer to encode skills\u001b[39;00m\n\u001b[1;32m----> 5\u001b[0m \u001b[38;5;28;01mfrom\u001b[39;00m \u001b[38;5;21;01msklearn\u001b[39;00m\u001b[38;5;21;01m.\u001b[39;00m\u001b[38;5;21;01mpreprocessing\u001b[39;00m \u001b[38;5;28;01mimport\u001b[39;00m MultiLabelBinarizer\n\u001b[0;32m      7\u001b[0m \u001b[38;5;66;03m# Assuming skills are stored in a list-like format\u001b[39;00m\n\u001b[0;32m      8\u001b[0m mlb \u001b[38;5;241m=\u001b[39m MultiLabelBinarizer()\n",
      "\u001b[1;31mModuleNotFoundError\u001b[0m: No module named 'sklearn'"
     ]
    }
   ],
   "source": [
    "# Create a feature for progress percentage\n",
    "data['progressPercentage'] = data['modulesCompleted'] / data['totalModules']\n",
    "\n",
    "# Use MultiLabelBinarizer to encode skills\n",
    "from sklearn.preprocessing import MultiLabelBinarizer\n",
    "\n",
    "# Assuming skills are stored in a list-like format\n",
    "mlb = MultiLabelBinarizer()\n",
    "skills_encoded = mlb.fit_transform(data['userSkills'].str.split(','))\n",
    "\n",
    "# Combine encoded skills with main DataFrame\n",
    "skills_df = pd.DataFrame(skills_encoded, columns=mlb.classes_)\n",
    "data = pd.concat([data, skills_df], axis=1)\n"
   ]
  },
  {
   "cell_type": "code",
   "execution_count": null,
   "metadata": {},
   "outputs": [],
   "source": [
    "def get_employee_data(employee_id):\n",
    "    return data[data['employeeId'] == employee_id]\n",
    "\n",
    "employee_id = 0  # Replace with the actual employee ID\n",
    "employee_data = get_employee_data(employee_id)"
   ]
  },
  {
   "cell_type": "code",
   "execution_count": null,
   "metadata": {},
   "outputs": [],
   "source": [
    "completed_courses = employee_data[employee_data['progressStatus'] == 'completed']\n",
    "print(completed_courses[['courseName', 'progressPercentage', 'userSkills']])"
   ]
  },
  {
   "cell_type": "code",
   "execution_count": null,
   "metadata": {},
   "outputs": [],
   "source": [
    "from sklearn.model_selection import train_test_split\n",
    "from sklearn.ensemble import RandomForestClassifier\n",
    "\n",
    "# Prepare features and target variable\n",
    "X = data.drop(['employeeId', 'courseId', 'employeeName', 'courseName', 'progressStatus', 'lastUpdated'], axis=1)\n",
    "y = data['progressStatus'].apply(lambda x: 1 if x == 'completed' else 0)  # Binary target\n",
    "\n",
    "# Split the data\n",
    "X_train, X_test, y_train, y_test = train_test_split(X, y, test_size=0.2, random_state=42)\n",
    "\n",
    "# Train the model\n",
    "model = RandomForestClassifier()\n",
    "model.fit(X_train, y_train)"
   ]
  },
  {
   "cell_type": "code",
   "execution_count": null,
   "metadata": {},
   "outputs": [],
   "source": [
    "def recommend_courses(employee_id):\n",
    "    employee_data = get_employee_data(employee_id)\n",
    "    completed_courses = set(employee_data['courseId'])\n",
    "\n",
    "    # Create a DataFrame of all courses\n",
    "    all_courses = data[~data['courseId'].isin(completed_courses)]\n",
    "    \n",
    "    # Prepare features for prediction\n",
    "    features = all_courses.drop(['employeeId', 'courseId', 'employeeName', 'courseName', 'progressStatus', 'lastUpdated'], axis=1)\n",
    "\n",
    "    # Predict which courses are likely to be completed\n",
    "    predictions = model.predict(features)\n",
    "    all_courses['predicted_completion'] = predictions\n",
    "\n",
    "    # Recommend courses with predicted completion = 1\n",
    "    recommended_courses = all_courses[all_courses['predicted_completion'] == 1]\n",
    "    return recommended_courses[['courseName', 'difficulty', 'totalTime', 'courseSkills']]\n",
    "\n",
    "# Get recommendations for the given employee\n",
    "recommended = recommend_courses(employee_id)\n",
    "print(recommended)\n"
   ]
  }
 ],
 "metadata": {
  "kernelspec": {
   "display_name": "Python 3",
   "language": "python",
   "name": "python3"
  },
  "language_info": {
   "codemirror_mode": {
    "name": "ipython",
    "version": 3
   },
   "file_extension": ".py",
   "mimetype": "text/x-python",
   "name": "python",
   "nbconvert_exporter": "python",
   "pygments_lexer": "ipython3",
   "version": "3.12.1"
  }
 },
 "nbformat": 4,
 "nbformat_minor": 2
}
