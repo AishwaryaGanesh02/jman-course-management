{
 "cells": [
  {
   "cell_type": "code",
   "execution_count": 12,
   "metadata": {},
   "outputs": [],
   "source": [
    "import pandas as pd\n",
    "import numpy as np\n",
    "from sklearn.feature_extraction.text import TfidfVectorizer\n",
    "from sklearn.metrics.pairwise import cosine_similarity\n",
    "import ast\n",
    "\n",
    "data = pd.read_csv('../data/platinum/report_data.csv')\n",
    "\n",
    "data['userSkills'] = data['userSkills'].apply(lambda x: ast.literal_eval(x) if isinstance(x, str) else x)\n",
    "data['courseSkills'] = data['courseSkills'].apply(lambda x: ast.literal_eval(x) if isinstance(x, str) else x)\n",
    "\n",
    "data['skills_vector'] = data['courseSkills'].apply(lambda x: ' '.join(x))\n",
    "\n",
    "tfidf_vectorizer = TfidfVectorizer()\n",
    "\n",
    "tfidf_matrix = tfidf_vectorizer.fit_transform(data['skills_vector'])\n"
   ]
  },
  {
   "cell_type": "markdown",
   "metadata": {},
   "source": [
    "Course Recommendation Function"
   ]
  },
  {
   "cell_type": "code",
   "execution_count": 13,
   "metadata": {},
   "outputs": [],
   "source": [
    "def recommend_courses_content_based(employee_id, data, top_n=5):\n",
    "    employee_data = data[data['employeeId'] == employee_id]\n",
    "    \n",
    "    if employee_data.empty:\n",
    "        return f\"No data found for employee ID: {employee_id}\"\n",
    "    \n",
    "    employee_skills = employee_data.iloc[0]['userSkills']\n",
    "    employee_skills_vector = ' '.join(employee_skills)\n",
    "\n",
    "    employee_tfidf = tfidf_vectorizer.transform([employee_skills_vector])\n",
    "    cosine_sim = cosine_similarity(employee_tfidf, tfidf_matrix)\n",
    "\n",
    "    scores = cosine_sim[0]\n",
    "    data['similarity_score'] = scores\n",
    "\n",
    "    completed_courses = employee_data['courseId'].unique()\n",
    "    filtered_data = data[~data['courseId'].isin(completed_courses)]\n",
    "    filtered_data_unique = filtered_data.drop_duplicates(subset='courseId')\n",
    "\n",
    "    recommendations = filtered_data_unique.nlargest(top_n, 'similarity_score')\n",
    "\n",
    "    return recommendations[['courseId', 'courseName', 'similarity_score']]\n"
   ]
  },
  {
   "cell_type": "code",
   "execution_count": 14,
   "metadata": {},
   "outputs": [
    {
     "name": "stdout",
     "output_type": "stream",
     "text": [
      "      courseId                                         courseName  \\\n",
      "279        386          Sharable national artificial intelligence   \n",
      "814        249  Fully-configurable even-keeled Local Area Network   \n",
      "1139       394                   Robust fresh-thinking task-force   \n",
      "1740       377          Future-proofed eco-centric infrastructure   \n",
      "1474       283  Enterprise-wide solution-oriented customer loy...   \n",
      "\n",
      "      similarity_score  \n",
      "279           0.410191  \n",
      "814           0.386580  \n",
      "1139          0.383699  \n",
      "1740          0.343640  \n",
      "1474          0.314818  \n"
     ]
    }
   ],
   "source": [
    "employee_id = 5\n",
    "recommendations = recommend_courses_content_based(employee_id, data)\n",
    "print(recommendations)"
   ]
  }
 ],
 "metadata": {
  "kernelspec": {
   "display_name": "Python 3",
   "language": "python",
   "name": "python3"
  },
  "language_info": {
   "codemirror_mode": {
    "name": "ipython",
    "version": 3
   },
   "file_extension": ".py",
   "mimetype": "text/x-python",
   "name": "python",
   "nbconvert_exporter": "python",
   "pygments_lexer": "ipython3",
   "version": "3.12.4"
  }
 },
 "nbformat": 4,
 "nbformat_minor": 2
}
