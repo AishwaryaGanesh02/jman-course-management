{
 "cells": [
  {
   "cell_type": "code",
   "execution_count": 1,
   "metadata": {},
   "outputs": [
    {
     "name": "stdout",
     "output_type": "stream",
     "text": [
      "Requirement already satisfied: psycopg2 in c:\\users\\aishwaryaganesh\\appdata\\local\\programs\\python\\python312\\lib\\site-packages (2.9.9)Note: you may need to restart the kernel to use updated packages.\n",
      "\n",
      "Requirement already satisfied: pandas in c:\\users\\aishwaryaganesh\\appdata\\local\\programs\\python\\python312\\lib\\site-packages (2.2.2)\n",
      "Requirement already satisfied: numpy>=1.26.0 in c:\\users\\aishwaryaganesh\\appdata\\local\\programs\\python\\python312\\lib\\site-packages (from pandas) (2.0.1)\n",
      "Requirement already satisfied: python-dateutil>=2.8.2 in c:\\users\\aishwaryaganesh\\appdata\\local\\programs\\python\\python312\\lib\\site-packages (from pandas) (2.9.0.post0)\n",
      "Requirement already satisfied: pytz>=2020.1 in c:\\users\\aishwaryaganesh\\appdata\\local\\programs\\python\\python312\\lib\\site-packages (from pandas) (2024.1)\n",
      "Requirement already satisfied: tzdata>=2022.7 in c:\\users\\aishwaryaganesh\\appdata\\local\\programs\\python\\python312\\lib\\site-packages (from pandas) (2024.1)\n",
      "Requirement already satisfied: six>=1.5 in c:\\users\\aishwaryaganesh\\appdata\\local\\programs\\python\\python312\\lib\\site-packages (from python-dateutil>=2.8.2->pandas) (1.16.0)\n"
     ]
    }
   ],
   "source": [
    "# pip install psycopg2 pandas"
   ]
  },
  {
   "cell_type": "code",
   "execution_count": 1,
   "metadata": {},
   "outputs": [],
   "source": [
    "import pandas as pd\n",
    "import psycopg2\n",
    "import os\n",
    "\n",
    "# Database connection parameters\n",
    "DB_NAME = 'course_management'\n",
    "DB_USER = 'postgres'\n",
    "DB_PASSWORD = '1234'\n",
    "DB_HOST = 'localhost'  \n",
    "DB_PORT = '5432'  "
   ]
  },
  {
   "cell_type": "code",
   "execution_count": 2,
   "metadata": {},
   "outputs": [],
   "source": [
    "\n",
    "\n",
    "# Connect to the database\n",
    "conn = psycopg2.connect(\n",
    "    dbname=DB_NAME,\n",
    "    user=DB_USER,\n",
    "    password=DB_PASSWORD,\n",
    "    host=DB_HOST,\n",
    "    port=DB_PORT\n",
    ")\n",
    "cursor = conn.cursor()\n",
    "\n",
    "CSV_DIRECTORY = '../creation/'"
   ]
  },
  {
   "cell_type": "code",
   "execution_count": 3,
   "metadata": {},
   "outputs": [],
   "source": [
    "def seed_designations():\n",
    "    designation_df = pd.read_csv(CSV_DIRECTORY + 'designations.csv')\n",
    "    for index, row in designation_df.iterrows():\n",
    "        cursor.execute(\n",
    "            \"INSERT INTO public.\\\"Designation\\\" (\\\"name\\\") VALUES (%s) ON CONFLICT (\\\"name\\\") DO NOTHING\",\n",
    "            (row['name'],)\n",
    "        )\n",
    "\n",
    "def seed_courses():\n",
    "    course_df = pd.read_csv(os.path.join(CSV_DIRECTORY, 'courses.csv'))\n",
    "    for index, row in course_df.iterrows():\n",
    "        cursor.execute(\n",
    "            \"INSERT INTO public.\\\"Course\\\" (\\\"title\\\", \\\"url\\\", \\\"shortIntro\\\", \\\"difficulty\\\", \\\"language\\\", \\\"totalTime\\\", \\\"totalModules\\\", \\\"created_at\\\", \\\"updated_at\\\") VALUES (%s, %s, %s, %s, %s, %s, %s, %s, %s) ON CONFLICT (\\\"title\\\") DO NOTHING\",\n",
    "            (row['title'], row['url'], row['shortIntro'], row['difficulty'], row['language'],\n",
    "             row['totalTime'], row['totalModules'], row['createdAt'], row['updatedAt'])\n",
    "        )\n",
    "\n",
    "def seed_skills():\n",
    "    skill_df = pd.read_csv(os.path.join('../generator/', 'skills.csv'))\n",
    "    for index, row in skill_df.iterrows():\n",
    "        cursor.execute(\n",
    "            \"INSERT INTO public.\\\"Skill\\\" (\\\"name\\\") VALUES (%s) ON CONFLICT (\\\"name\\\") DO NOTHING\",\n",
    "            (row['skills'],)\n",
    "        )\n",
    "\n",
    "def seed_users():\n",
    "    user_df = pd.read_csv(os.path.join(CSV_DIRECTORY, 'users.csv'))\n",
    "    \n",
    "    for index, row in user_df.iterrows():\n",
    "        try:\n",
    "            designation_id = int(row['designationId']) if pd.notnull(row['designationId']) else None\n",
    "            cursor.execute(\n",
    "                \"INSERT INTO public.\\\"User\\\" (\\\"username\\\", \\\"passwordHash\\\", \\\"email\\\", \\\"gender\\\", \\\"role\\\", \\\"designationId\\\", \\\"phoneNumber\\\", \\\"createdAt\\\", \\\"updatedAt\\\") VALUES (%s, %s, %s, %s, %s, %s, %s, %s, %s) ON CONFLICT (\\\"username\\\") DO NOTHING\",\n",
    "                (row['username'], row['passwordHash'], row['email'], row['gender'], row['role'],\n",
    "                 designation_id, row['phoneNumber'], row['createdAt'], row['updatedAt'])\n",
    "            )\n",
    "        except Exception as e:\n",
    "            print(f\"Error inserting user at index {index}: {e}\")\n",
    "\n",
    "def seed_employee_progress():\n",
    "    progress_df = pd.read_csv(os.path.join(CSV_DIRECTORY, 'employee_progress.csv'))\n",
    "    for index, row in progress_df.iterrows():\n",
    "        cursor.execute(\n",
    "            \"INSERT INTO public.\\\"EmployeeProgress\\\" (\\\"userId\\\", \\\"courseId\\\", \\\"progressStatus\\\", \\\"last_updated\\\", \\\"modulesCompleted\\\", \\\"certificateProof\\\") VALUES (%s, %s, %s, %s, %s, %s) ON CONFLICT (\\\"userId\\\", \\\"courseId\\\") DO NOTHING\",\n",
    "            (row['userId'], row['courseId'], row['progressStatus'], row['lastUpdated'], row['modulesCompleted'], row['certificateProof'])\n",
    "        )\n",
    "\n",
    "def seed_user_skills():\n",
    "    user_skill_df = pd.read_csv(os.path.join(CSV_DIRECTORY, 'user_skills.csv'))\n",
    "    for index, row in user_skill_df.iterrows():\n",
    "        cursor.execute(\n",
    "            \"INSERT INTO public.\\\"UserSkill\\\" (\\\"userId\\\", \\\"skillId\\\", \\\"level\\\") VALUES (%s, %s, %s) ON CONFLICT (\\\"userId\\\", \\\"skillId\\\") DO NOTHING\",\n",
    "            (row['userId'], row['skillId'], row['level'])\n",
    "        )\n",
    "\n",
    "def seed_designation_skills():\n",
    "    designation_skill_df = pd.read_csv(os.path.join(CSV_DIRECTORY, 'designation_skills.csv'))\n",
    "    \n",
    "    designation_skill_df['designationId'] = designation_skill_df['designationId'].astype(int)\n",
    "    designation_skill_df['skillId'] = designation_skill_df['skillId'].astype(int)\n",
    "\n",
    "    for index, row in designation_skill_df.iterrows():\n",
    "        cursor.execute(\n",
    "            \"INSERT INTO public.\\\"DesignationSkill\\\" (\\\"designationId\\\", \\\"skillId\\\") VALUES (%s, %s) ON CONFLICT (\\\"designationId\\\", \\\"skillId\\\") DO NOTHING\",\n",
    "            (int(row['designationId']), int(row['skillId']))\n",
    "        )\n",
    "\n",
    "def seed_course_skills():\n",
    "    course_skill_df = pd.read_csv(os.path.join(CSV_DIRECTORY, 'course_skills.csv'))\n",
    "    for index, row in course_skill_df.iterrows():\n",
    "        cursor.execute(\n",
    "            \"INSERT INTO public.\\\"CourseSkill\\\" (\\\"courseId\\\", \\\"skillId\\\", \\\"level\\\") VALUES (%s, %s, %s) ON CONFLICT (\\\"courseId\\\", \\\"skillId\\\") DO NOTHING\",\n",
    "            (row['courseId'], row['skillId'], row['level'])\n",
    "        )\n"
   ]
  },
  {
   "cell_type": "code",
   "execution_count": 12,
   "metadata": {},
   "outputs": [],
   "source": []
  },
  {
   "cell_type": "code",
   "execution_count": 5,
   "metadata": {},
   "outputs": [
    {
     "name": "stdout",
     "output_type": "stream",
     "text": [
      "Seeding completed successfully!\n"
     ]
    }
   ],
   "source": [
    "# Call the seed functions\n",
    "try:\n",
    "    seed_designations()\n",
    "    seed_courses()\n",
    "    seed_skills()\n",
    "    \n",
    "    seed_users()\n",
    "    seed_employee_progress()\n",
    "    seed_user_skills()\n",
    "\n",
    "    seed_designation_skills()\n",
    "    seed_course_skills()\n",
    "\n",
    "\n",
    "    # Commit the transaction\n",
    "    conn.commit()\n",
    "    print(\"Seeding completed successfully!\")\n",
    "\n",
    "except Exception as e:\n",
    "    print(f\"Error during seeding: {e}\")\n",
    "    conn.rollback()  # Rollback on error\n"
   ]
  },
  {
   "cell_type": "code",
   "execution_count": null,
   "metadata": {},
   "outputs": [],
   "source": [
    "cursor.close()\n",
    "conn.close()"
   ]
  },
  {
   "cell_type": "code",
   "execution_count": null,
   "metadata": {},
   "outputs": [],
   "source": [
    "\n"
   ]
  }
 ],
 "metadata": {
  "kernelspec": {
   "display_name": "Python 3",
   "language": "python",
   "name": "python3"
  },
  "language_info": {
   "codemirror_mode": {
    "name": "ipython",
    "version": 3
   },
   "file_extension": ".py",
   "mimetype": "text/x-python",
   "name": "python",
   "nbconvert_exporter": "python",
   "pygments_lexer": "ipython3",
   "version": "3.12.4"
  }
 },
 "nbformat": 4,
 "nbformat_minor": 2
}
