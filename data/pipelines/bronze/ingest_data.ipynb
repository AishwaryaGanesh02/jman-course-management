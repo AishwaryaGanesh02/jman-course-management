{
 "cells": [
  {
   "cell_type": "code",
   "execution_count": 9,
   "metadata": {},
   "outputs": [],
   "source": [
    "# pip install pandas sqlalchemy dotenv"
   ]
  },
  {
   "cell_type": "code",
   "execution_count": 10,
   "metadata": {},
   "outputs": [],
   "source": [
    "import pandas as pd\n",
    "from sqlalchemy import create_engine\n",
    "import os\n",
    "from dotenv import load_dotenv"
   ]
  },
  {
   "cell_type": "markdown",
   "metadata": {},
   "source": [
    "Data base and directory setup"
   ]
  },
  {
   "cell_type": "code",
   "execution_count": 11,
   "metadata": {},
   "outputs": [],
   "source": [
    "load_dotenv()\n",
    "DATABASE_URL = os.getenv(\"PG_DATABASE_URL\")"
   ]
  },
  {
   "cell_type": "code",
   "execution_count": 12,
   "metadata": {},
   "outputs": [],
   "source": [
    "engine = create_engine(DATABASE_URL)"
   ]
  },
  {
   "cell_type": "code",
   "execution_count": 13,
   "metadata": {},
   "outputs": [],
   "source": [
    "RAW_DATA_DIR = \"../../data/bronze\"\n",
    "os.makedirs(RAW_DATA_DIR, exist_ok=True)"
   ]
  },
  {
   "cell_type": "code",
   "execution_count": 14,
   "metadata": {},
   "outputs": [],
   "source": [
    "tables = [\"User\", \"Designation\", \"Course\", \"EmployeeProgress\", \"Skill\", \"UserSkill\", \"DesignationSkill\", \"CourseSkill\"]"
   ]
  },
  {
   "cell_type": "markdown",
   "metadata": {},
   "source": [
    "Collect and save data"
   ]
  },
  {
   "cell_type": "code",
   "execution_count": 15,
   "metadata": {},
   "outputs": [],
   "source": [
    "def fetch_data(table):\n",
    "    \"\"\"Fetch data from the specified table.\"\"\"\n",
    "    return pd.read_sql_table(table, con=engine)\n",
    "\n",
    "def save_raw_data(data, table_name):\n",
    "    \"\"\"Save the DataFrame to a CSV file.\"\"\"\n",
    "    file_path = os.path.join(RAW_DATA_DIR, f'raw_{table_name}.csv')\n",
    "    data.to_csv(file_path, index=False)\n",
    "    print(f\"Saved {table_name} to {file_path}\")\n",
    "\n",
    "def run_data_ingestion(tables):\n",
    "    \"\"\"Run the data ingestion process for the specified tables.\"\"\"\n",
    "    for table in tables:\n",
    "        data = fetch_data(table)\n",
    "        save_raw_data(data, table)\n",
    "    print(\"Raw data extraction complete!\")"
   ]
  },
  {
   "cell_type": "code",
   "execution_count": 16,
   "metadata": {},
   "outputs": [
    {
     "name": "stdout",
     "output_type": "stream",
     "text": [
      "Saved User to ../../data/bronze\\raw_User.csv\n",
      "Saved Designation to ../../data/bronze\\raw_Designation.csv\n",
      "Saved Course to ../../data/bronze\\raw_Course.csv\n",
      "Saved EmployeeProgress to ../../data/bronze\\raw_EmployeeProgress.csv\n",
      "Saved Skill to ../../data/bronze\\raw_Skill.csv\n",
      "Saved UserSkill to ../../data/bronze\\raw_UserSkill.csv\n",
      "Saved DesignationSkill to ../../data/bronze\\raw_DesignationSkill.csv\n",
      "Saved CourseSkill to ../../data/bronze\\raw_CourseSkill.csv\n",
      "Raw data extraction complete!\n"
     ]
    }
   ],
   "source": [
    "if __name__ == \"__main__\":\n",
    "    run_data_ingestion(tables)"
   ]
  }
 ],
 "metadata": {
  "kernelspec": {
   "display_name": "Python 3",
   "language": "python",
   "name": "python3"
  },
  "language_info": {
   "codemirror_mode": {
    "name": "ipython",
    "version": 3
   },
   "file_extension": ".py",
   "mimetype": "text/x-python",
   "name": "python",
   "nbconvert_exporter": "python",
   "pygments_lexer": "ipython3",
   "version": "3.12.4"
  }
 },
 "nbformat": 4,
 "nbformat_minor": 2
}
