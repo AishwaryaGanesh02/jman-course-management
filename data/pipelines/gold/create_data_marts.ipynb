{
 "cells": [
  {
   "cell_type": "code",
   "execution_count": 1,
   "metadata": {},
   "outputs": [],
   "source": [
    "import pandas as pd\n",
    "import os"
   ]
  },
  {
   "cell_type": "code",
   "execution_count": 2,
   "metadata": {},
   "outputs": [],
   "source": [
    "TRANSFORMED_DATA_DIR = \"../../data/silver\"  # Path to the transformed data\n",
    "GOLD_DATA_DIR = \"../../data/gold\"  # Path to save gold layer data\n",
    "os.makedirs(GOLD_DATA_DIR, exist_ok=True) "
   ]
  },
  {
   "cell_type": "code",
   "execution_count": 3,
   "metadata": {},
   "outputs": [],
   "source": [
    "# Cell 2: Load transformed data\n",
    "tables = [\n",
    "    \"User\", \"Designation\", \"Course\", \"EmployeeProgress\", \n",
    "    \"Skill\", \"UserSkill\", \"DesignationSkill\", \"CourseSkill\"\n",
    "]\n",
    "\n",
    "# Dictionary to hold DataFrames for each table\n",
    "transformed_dfs = {}\n",
    "\n",
    "for table in tables:\n",
    "    file_path = os.path.join(TRANSFORMED_DATA_DIR, f'transformed_{table}.csv')\n",
    "    transformed_dfs[table] = pd.read_csv(file_path)"
   ]
  },
  {
   "cell_type": "code",
   "execution_count": 4,
   "metadata": {},
   "outputs": [
    {
     "name": "stdout",
     "output_type": "stream",
     "text": [
      "Dimension tables created and saved.\n"
     ]
    }
   ],
   "source": [
    "# Cell 3: Create dimension tables\n",
    "dim_users = transformed_dfs[\"User\"]\n",
    "dim_designations = transformed_dfs[\"Designation\"]\n",
    "dim_courses = transformed_dfs[\"Course\"]\n",
    "dim_skills = transformed_dfs[\"Skill\"]\n",
    "\n",
    "# Save dimension tables\n",
    "dim_users.to_csv(os.path.join(GOLD_DATA_DIR, 'dim_users.csv'), index=False)\n",
    "dim_designations.to_csv(os.path.join(GOLD_DATA_DIR, 'dim_designations.csv'), index=False)\n",
    "dim_courses.to_csv(os.path.join(GOLD_DATA_DIR, 'dim_courses.csv'), index=False)\n",
    "dim_skills.to_csv(os.path.join(GOLD_DATA_DIR, 'dim_skills.csv'), index=False)\n",
    "\n",
    "print(\"Dimension tables created and saved.\")"
   ]
  },
  {
   "cell_type": "code",
   "execution_count": 5,
   "metadata": {},
   "outputs": [
    {
     "name": "stdout",
     "output_type": "stream",
     "text": [
      "Fact table created and saved.\n"
     ]
    }
   ],
   "source": [
    "# Cell 4: Create fact table\n",
    "# Fact table: EmployeeProgress which relates users and courses\n",
    "fact_employee_progress = transformed_dfs[\"EmployeeProgress\"]\n",
    "\n",
    "# Join with dimension tables to add descriptive names (if needed)\n",
    "fact_employee_progress = fact_employee_progress.merge(dim_users[['id', 'username']], left_on='userId', right_on='id', how='left', suffixes=('', '_user'))\n",
    "fact_employee_progress = fact_employee_progress.merge(dim_courses[['course_id', 'title']], left_on='courseId', right_on='course_id', how='left', suffixes=('', '_course'))\n",
    "\n",
    "# Select relevant columns for the fact table\n",
    "fact_employee_progress = fact_employee_progress[['userId', 'courseId', 'progressStatus', 'last_updated', 'modulesCompleted', 'username', 'title']]\n",
    "\n",
    "# Save fact table\n",
    "fact_employee_progress.to_csv(os.path.join(GOLD_DATA_DIR, 'fact_employee_progress.csv'), index=False)\n",
    "\n",
    "print(\"Fact table created and saved.\")\n"
   ]
  },
  {
   "cell_type": "code",
   "execution_count": null,
   "metadata": {},
   "outputs": [],
   "source": []
  },
  {
   "cell_type": "code",
   "execution_count": null,
   "metadata": {},
   "outputs": [],
   "source": []
  },
  {
   "cell_type": "code",
   "execution_count": null,
   "metadata": {},
   "outputs": [],
   "source": []
  }
 ],
 "metadata": {
  "kernelspec": {
   "display_name": "Python 3",
   "language": "python",
   "name": "python3"
  },
  "language_info": {
   "codemirror_mode": {
    "name": "ipython",
    "version": 3
   },
   "file_extension": ".py",
   "mimetype": "text/x-python",
   "name": "python",
   "nbconvert_exporter": "python",
   "pygments_lexer": "ipython3",
   "version": "3.12.1"
  }
 },
 "nbformat": 4,
 "nbformat_minor": 2
}
