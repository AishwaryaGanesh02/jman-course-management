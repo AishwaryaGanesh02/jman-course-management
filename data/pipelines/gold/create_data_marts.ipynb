{
 "cells": [
  {
   "cell_type": "code",
   "execution_count": 24,
   "metadata": {},
   "outputs": [],
   "source": [
    "import pandas as pd\n",
    "import os"
   ]
  },
  {
   "cell_type": "markdown",
   "metadata": {},
   "source": [
    "Define Paths"
   ]
  },
  {
   "cell_type": "code",
   "execution_count": 44,
   "metadata": {},
   "outputs": [],
   "source": [
    "TRANSFORMED_DATA_DIR = \"../../data/silver\"\n",
    "MART_DATA_DIM_DIR = \"../../data/gold/dimension\"\n",
    "MART_DATA_FACT_DIR = \"../../data/gold/fact\"\n",
    "os.makedirs(MART_DATA_DIM_DIR, exist_ok=True)\n",
    "os.makedirs(MART_DATA_FACT_DIR, exist_ok=True)"
   ]
  },
  {
   "cell_type": "markdown",
   "metadata": {},
   "source": [
    "Load Transformed Data"
   ]
  },
  {
   "cell_type": "code",
   "execution_count": 28,
   "metadata": {},
   "outputs": [],
   "source": [
    "\n",
    "tables = [\n",
    "    \"User\", \"Designation\", \"Course\", \"EmployeeProgress\", \n",
    "    \"Skill\", \"UserSkill\", \"DesignationSkill\", \"CourseSkill\"\n",
    "]\n",
    "\n",
    "\n",
    "transformed_dfs = {}\n",
    "\n",
    "for table in tables:\n",
    "    file_path = os.path.join(TRANSFORMED_DATA_DIR, f'prep_{table}.csv')\n",
    "    transformed_dfs[table] = pd.read_csv(file_path)\n"
   ]
  },
  {
   "cell_type": "markdown",
   "metadata": {},
   "source": [
    "Create User Dimension Table"
   ]
  },
  {
   "cell_type": "code",
   "execution_count": 31,
   "metadata": {},
   "outputs": [
    {
     "name": "stdout",
     "output_type": "stream",
     "text": [
      "User Dimension Preview:\n",
      "   user_id       user_name            joined_at\n",
      "0        2    Allison Chan  2023-06-14 19:04:33\n",
      "1        3    Scott Flores  2023-03-25 18:14:50\n",
      "2        4  Frank Trujillo  2022-10-14 09:55:19\n",
      "3        5   Dana Gonzalez  2022-06-27 08:07:37\n",
      "4        6      Scott Holt  2023-02-03 17:27:47\n"
     ]
    }
   ],
   "source": [
    "user_dim = transformed_dfs[\"User\"][['id', 'username', 'createdAt']]\n",
    "user_dim.columns = ['user_id', 'user_name', 'joined_at']  # Rename columns\n",
    "print(\"User Dimension Preview:\")\n",
    "print(user_dim.head())\n"
   ]
  },
  {
   "cell_type": "markdown",
   "metadata": {},
   "source": [
    "Create Designation Dimension Table"
   ]
  },
  {
   "cell_type": "code",
   "execution_count": 32,
   "metadata": {},
   "outputs": [
    {
     "name": "stdout",
     "output_type": "stream",
     "text": [
      "\n",
      "Designation Dimension Preview:\n",
      "   designation_id    designation_name\n",
      "0               1  Software Developer\n",
      "1               2       Data Engineer\n",
      "2               3                  HR\n",
      "3               4     Sales Executive\n",
      "4               5       IT Specialist\n"
     ]
    }
   ],
   "source": [
    "designation_dim = transformed_dfs[\"Designation\"][['id', 'name']]\n",
    "designation_dim.columns = ['designation_id', 'designation_name']  # Rename columns\n",
    "print(\"\\nDesignation Dimension Preview:\")\n",
    "print(designation_dim.head())\n"
   ]
  },
  {
   "cell_type": "markdown",
   "metadata": {},
   "source": [
    "Create Course Dimension Table"
   ]
  },
  {
   "cell_type": "code",
   "execution_count": 34,
   "metadata": {},
   "outputs": [
    {
     "name": "stdout",
     "output_type": "stream",
     "text": [
      "\n",
      "Course Dimension Preview:\n",
      "   course_id                                      title    difficulty  \\\n",
      "0          1  Total solution-oriented Graphic Interface  Intermediate   \n",
      "1          2          Enhanced mobile Graphic Interface  Intermediate   \n",
      "2          3              Fundamental radical workforce      Beginner   \n",
      "3          4                 Expanded exuding help-desk      Advanced   \n",
      "4          5               Object-based global strategy      Advanced   \n",
      "\n",
      "   language  totalTime  totalModules           created_at  \n",
      "0  Japanese        379             6  2023-12-29 15:22:34  \n",
      "1   Spanish        421            27  2022-10-28 02:22:40  \n",
      "2   English        354            13  2023-02-25 19:00:50  \n",
      "3     Hindi        274            30  2023-05-25 23:51:59  \n",
      "4    German        193            29  2023-09-04 00:25:38  \n"
     ]
    }
   ],
   "source": [
    "course_dim = transformed_dfs[\"Course\"][['course_id', 'title', 'difficulty', 'language', 'totalTime', 'totalModules', 'created_at']]\n",
    "print(\"\\nCourse Dimension Preview:\")\n",
    "print(course_dim.head())\n"
   ]
  },
  {
   "cell_type": "markdown",
   "metadata": {},
   "source": [
    "Create Skill Dimension Table"
   ]
  },
  {
   "cell_type": "code",
   "execution_count": 36,
   "metadata": {},
   "outputs": [
    {
     "name": "stdout",
     "output_type": "stream",
     "text": [
      "\n",
      "Skill Dimension Preview:\n",
      "   skill_id            skill_name\n",
      "0         1            Leadership\n",
      "1         2  CXO level engagement\n",
      "2         3               Glamour\n",
      "3         4                 IKEv2\n",
      "4         5           Awesomeness\n"
     ]
    }
   ],
   "source": [
    "skill_dim = transformed_dfs[\"Skill\"][['id', 'name']]\n",
    "skill_dim.columns = ['skill_id', 'skill_name'] \n",
    "print(\"\\nSkill Dimension Preview:\")\n",
    "print(skill_dim.head())\n"
   ]
  },
  {
   "cell_type": "markdown",
   "metadata": {},
   "source": [
    "Create Employee Progress Fact Table"
   ]
  },
  {
   "cell_type": "code",
   "execution_count": 38,
   "metadata": {},
   "outputs": [
    {
     "name": "stdout",
     "output_type": "stream",
     "text": [
      "\n",
      "Employee Progress Fact Table Preview:\n",
      "   userId  courseId  designationId progressStatus             last_updated  \\\n",
      "2       2       119              5    in_progress  2024-07-18 11:08:39.000   \n",
      "3       2       119              5      completed  2024-08-17 06:29:20.000   \n",
      "0       2       331              5    in_progress  2024-01-18 01:59:25.000   \n",
      "1       2       331              5      completed  2024-07-30 06:51:29.000   \n",
      "6       3       341              7    in_progress  2023-12-05 03:41:02.000   \n",
      "\n",
      "   modulesCompleted  has_certificate          previous_update  \n",
      "2                 6                0                      NaN  \n",
      "3                 8                1  2024-07-18 11:08:39.000  \n",
      "0                 6                0                      NaN  \n",
      "1                10                1  2024-01-18 01:59:25.000  \n",
      "6                19                0                      NaN  \n"
     ]
    }
   ],
   "source": [
    "employee_progress = transformed_dfs[\"EmployeeProgress\"].merge(transformed_dfs[\"User\"], left_on='userId', right_on='id', how='left')\n",
    "\n",
    "\n",
    "employee_progress = employee_progress.sort_values(by=['userId', 'courseId', 'last_updated'])\n",
    "\n",
    "# Calculate the previous update date using shift\n",
    "employee_progress['previous_update'] = employee_progress.groupby(['userId', 'courseId'])['last_updated'].shift()\n",
    "\n",
    "employee_progress_fact = employee_progress[[\n",
    "    'userId', 'courseId', 'designationId', 'progressStatus', \n",
    "    'last_updated', 'modulesCompleted', 'has_certificate', \n",
    "    'previous_update'\n",
    "]]\n",
    "\n",
    "print(\"\\nEmployee Progress Fact Table Preview:\")\n",
    "print(employee_progress_fact.head())\n"
   ]
  },
  {
   "cell_type": "markdown",
   "metadata": {},
   "source": [
    "Create Course Enrollment Fact Table"
   ]
  },
  {
   "cell_type": "code",
   "execution_count": 39,
   "metadata": {},
   "outputs": [
    {
     "name": "stdout",
     "output_type": "stream",
     "text": [
      "\n",
      "Course Enrollment Fact Table Preview:\n",
      "   courseId  count_of_enrolled  count_of_unique_users  \\\n",
      "0         1                  9                      3   \n",
      "1         2                  5                      1   \n",
      "2         3                 12                      5   \n",
      "3         4                  2                      1   \n",
      "4         5                  3                      1   \n",
      "\n",
      "   count_of_completed_and_has_certificate  \n",
      "0                                       2  \n",
      "1                                       1  \n",
      "2                                       4  \n",
      "3                                       1  \n",
      "4                                       1  \n"
     ]
    }
   ],
   "source": [
    "course_enroll_fact = transformed_dfs[\"EmployeeProgress\"]\n",
    "\n",
    "course_enroll_fact['completed_and_has_certificate'] = (course_enroll_fact['progressStatus'] == 'completed') & (course_enroll_fact['has_certificate'] == True)\n",
    "\n",
    "course_enroll_fact = course_enroll_fact.groupby('courseId').agg(\n",
    "    count_of_enrolled=('userId', 'count'), \n",
    "    count_of_unique_users=('userId', 'nunique'), \n",
    "    count_of_completed_and_has_certificate=('completed_and_has_certificate', 'sum') \n",
    ").reset_index()\n",
    "\n",
    "print(\"\\nCourse Enrollment Fact Table Preview:\")\n",
    "print(course_enroll_fact.head())\n"
   ]
  },
  {
   "cell_type": "code",
   "execution_count": 40,
   "metadata": {},
   "outputs": [
    {
     "name": "stdout",
     "output_type": "stream",
     "text": [
      "       id      username  designationId               name  skillId  \\\n",
      "0       2  Allison Chan              5      IT Specialist       20   \n",
      "1       2  Allison Chan              5      IT Specialist      150   \n",
      "2       2  Allison Chan              5      IT Specialist       78   \n",
      "3       2  Allison Chan              5      IT Specialist       16   \n",
      "4       2  Allison Chan              5      IT Specialist      146   \n",
      "...   ...           ...            ...                ...      ...   \n",
      "2824  500  Sarah Greene              8  Financial Analyst      187   \n",
      "2825  500  Sarah Greene              8  Financial Analyst       36   \n",
      "2826  500  Sarah Greene              8  Financial Analyst      189   \n",
      "2827  500  Sarah Greene              8  Financial Analyst      183   \n",
      "2828  500  Sarah Greene              8  Financial Analyst      112   \n",
      "\n",
      "                     name_skill fulfillmentStatus  \n",
      "0          Network Architecture     Not Fulfilled  \n",
      "1                           SQF     Not Fulfilled  \n",
      "2                          SRDS     Not Fulfilled  \n",
      "3                System Testing     Not Fulfilled  \n",
      "4              Service Delivery     Not Fulfilled  \n",
      "...                         ...               ...  \n",
      "2824                Clarity FSR     Not Fulfilled  \n",
      "2825            Brand Awareness     Not Fulfilled  \n",
      "2826  Organizational Leadership     Not Fulfilled  \n",
      "2827                     Sports     Not Fulfilled  \n",
      "2828                       FCoE     Not Fulfilled  \n",
      "\n",
      "[2829 rows x 7 columns]\n"
     ]
    }
   ],
   "source": [
    "user_designation = transformed_dfs[\"User\"].merge(transformed_dfs[\"Designation\"], left_on='designationId', right_on='id', suffixes=('', '_designation'))\n",
    "user_designation_skills = user_designation.merge(transformed_dfs[\"DesignationSkill\"], left_on='designationId', right_on='designationId')\n",
    "user_designation_skills = user_designation_skills.merge(transformed_dfs[\"Skill\"], left_on='skillId', right_on='id', suffixes=('', '_skill'))\n",
    "fact_table = user_designation_skills.merge(transformed_dfs[\"UserSkill\"], left_on=['id', 'skillId'], right_on=['userId', 'skillId'], how='left', suffixes=('', '_user_skill'))\n",
    "\n",
    "# Determine fulfillment status\n",
    "fact_table['fulfillmentStatus'] = fact_table['userId'].apply(lambda x: 'Fulfilled' if pd.notnull(x) else 'Not Fulfilled')\n",
    "\n",
    "skill_fulfillment_fact = fact_table[['id', 'username', 'designationId', 'name', 'skillId', 'name_skill', 'fulfillmentStatus']]\n",
    "\n",
    "print(skill_fulfillment_fact)"
   ]
  },
  {
   "cell_type": "code",
   "execution_count": 45,
   "metadata": {},
   "outputs": [],
   "source": [
    "user_dim.to_csv(os.path.join(MART_DATA_DIM_DIR, 'user_dimension.csv'), index=False)\n",
    "\n",
    "designation_dim.to_csv(os.path.join(MART_DATA_DIM_DIR, 'designation_dimension.csv'), index=False)\n",
    "\n",
    "course_dim.to_csv(os.path.join(MART_DATA_DIM_DIR, 'course_dimension.csv'), index=False)\n",
    "\n",
    "skill_dim.to_csv(os.path.join(MART_DATA_DIM_DIR, 'skill_dimension.csv'), index=False)\n",
    "\n",
    "employee_progress_fact.to_csv(os.path.join(MART_DATA_FACT_DIR, 'employee_progress_fact.csv'), index=False)\n",
    "\n",
    "course_enroll_fact.to_csv(os.path.join(MART_DATA_FACT_DIR, 'course_enrollment_fact.csv'), index=False)\n",
    "\n",
    "skill_fulfillment_fact.to_csv(os.path.join(MART_DATA_FACT_DIR, 'skill_fulfillment_fact.csv'), index=False)\n"
   ]
  },
  {
   "cell_type": "markdown",
   "metadata": {},
   "source": [
    "Dimension Tables\n",
    "\n",
    "1) User Dim: ['id', 'username', 'createdAt']\n",
    "\n",
    "2) Designation Dim: ['id', 'name']\n",
    "\n",
    "3) Course Dim: ['course_id', 'title', 'difficulty', 'language', 'totalTime', 'totalModules', 'created_at']\n",
    "\n",
    "4) Skill Dim: ['id', 'name']\n",
    "\n",
    "\n",
    "Fact Tables\n",
    "\n",
    "1) EmployeeProgress Fact: ['userId', 'courseId', 'designationId', 'progressStatus', 'last_updated', 'modulesCompleted', 'has_certificate', 'previous_update']\n",
    "\n",
    "2) CourseEnroll Fact: ['courseId', 'count_of_enrolled', 'count_of_completed_and_has_certificate'] \n",
    "\n",
    "3) Skill Fact: ['id', 'username', 'designationId', 'name', 'skillId', 'name_skill', 'fulfillmentStatus']"
   ]
  }
 ],
 "metadata": {
  "kernelspec": {
   "display_name": "Python 3",
   "language": "python",
   "name": "python3"
  },
  "language_info": {
   "codemirror_mode": {
    "name": "ipython",
    "version": 3
   },
   "file_extension": ".py",
   "mimetype": "text/x-python",
   "name": "python",
   "nbconvert_exporter": "python",
   "pygments_lexer": "ipython3",
   "version": "3.12.4"
  }
 },
 "nbformat": 4,
 "nbformat_minor": 2
}
