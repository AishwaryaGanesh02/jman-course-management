{
 "cells": [
  {
   "cell_type": "code",
   "execution_count": 1,
   "metadata": {},
   "outputs": [],
   "source": [
    "import pandas as pd\n",
    "import os"
   ]
  },
  {
   "cell_type": "markdown",
   "metadata": {},
   "source": [
    "Define Paths"
   ]
  },
  {
   "cell_type": "code",
   "execution_count": 2,
   "metadata": {},
   "outputs": [],
   "source": [
    "TRANSFORMED_DATA_DIR = \"../../data/silver\"\n",
    "MART_DATA_DIR = \"../../data/gold\"\n",
    "os.makedirs(MART_DATA_DIR, exist_ok=True)"
   ]
  },
  {
   "cell_type": "markdown",
   "metadata": {},
   "source": [
    "Load Transformed Data"
   ]
  },
  {
   "cell_type": "code",
   "execution_count": null,
   "metadata": {},
   "outputs": [],
   "source": [
    "# Load transformed data\n",
    "tables = [\n",
    "    \"User\", \"Designation\", \"Course\", \"EmployeeProgress\", \n",
    "    \"Skill\", \"UserSkill\", \"DesignationSkill\", \"CourseSkill\"\n",
    "]\n",
    "\n",
    "# Dictionary to hold DataFrames for each table\n",
    "transformed_dfs = {}\n",
    "\n",
    "for table in tables:\n",
    "    file_path = os.path.join(TRANSFORMED_DATA_DIR, f'prep_{table}.csv')\n",
    "    transformed_dfs[table] = pd.read_csv(file_path)\n",
    "    print(transformed_dfs[table].columns)\n",
    "transformed_dfs[\"User\"].head()"
   ]
  },
  {
   "cell_type": "markdown",
   "metadata": {},
   "source": [
    "Create User Dimension Table"
   ]
  },
  {
   "cell_type": "code",
   "execution_count": null,
   "metadata": {},
   "outputs": [],
   "source": [
    "# Create User Dimension Table\n",
    "user_dim = transformed_dfs[\"User\"][['id', 'username', 'createdAt']]\n",
    "user_dim.columns = ['user_id', 'user_name', 'joined_at']  # Rename columns\n",
    "print(\"User Dimension Preview:\")\n",
    "print(user_dim.head())\n"
   ]
  },
  {
   "cell_type": "markdown",
   "metadata": {},
   "source": [
    "Create Designation Dimension Table"
   ]
  },
  {
   "cell_type": "code",
   "execution_count": null,
   "metadata": {},
   "outputs": [],
   "source": [
    "# Create Designation Dimension Table\n",
    "designation_dim = transformed_dfs[\"Designation\"][['id', 'name']]\n",
    "designation_dim.columns = ['designation_id', 'designation_name']  # Rename columns\n",
    "print(\"\\nDesignation Dimension Preview:\")\n",
    "print(designation_dim.head())\n"
   ]
  },
  {
   "cell_type": "markdown",
   "metadata": {},
   "source": [
    "Create Course Dimension Table"
   ]
  },
  {
   "cell_type": "code",
   "execution_count": null,
   "metadata": {},
   "outputs": [],
   "source": [
    "# Create Course Dimension Table\n",
    "course_dim = transformed_dfs[\"Course\"][['course_id', 'title', 'difficulty', 'language', 'totalTime', 'totalModules', 'created_at']]\n",
    "print(\"\\nCourse Dimension Preview:\")\n",
    "print(course_dim.head())\n"
   ]
  },
  {
   "cell_type": "markdown",
   "metadata": {},
   "source": [
    "Create Skill Dimension Table"
   ]
  },
  {
   "cell_type": "code",
   "execution_count": null,
   "metadata": {},
   "outputs": [],
   "source": [
    "# Create Skill Dimension Table\n",
    "skill_dim = transformed_dfs[\"Skill\"][['id', 'name']]\n",
    "skill_dim.columns = ['skill_id', 'skill_name']  # Rename columns\n",
    "print(\"\\nSkill Dimension Preview:\")\n",
    "print(skill_dim.head())\n"
   ]
  },
  {
   "cell_type": "markdown",
   "metadata": {},
   "source": [
    "Create Employee Progress Fact Table"
   ]
  },
  {
   "cell_type": "code",
   "execution_count": null,
   "metadata": {},
   "outputs": [],
   "source": [
    "# Create Employee Progress Fact Table\n",
    "employee_progress = transformed_dfs[\"EmployeeProgress\"].merge(transformed_dfs[\"User\"], left_on='userId', right_on='id', how='left')\n",
    "\n",
    "# Sort by userId, courseId, and last_updated to ensure chronological order\n",
    "employee_progress = employee_progress.sort_values(by=['userId', 'courseId', 'last_updated'])\n",
    "\n",
    "# Calculate the previous update date using shift\n",
    "employee_progress['previous_update'] = employee_progress.groupby(['userId', 'courseId'])['last_updated'].shift()\n",
    "\n",
    "# Select necessary columns, including designationId from the User table\n",
    "employee_progress_fact = employee_progress[[\n",
    "    'userId', 'courseId', 'designationId', 'progressStatus', \n",
    "    'last_updated', 'modulesCompleted', 'has_certificate', \n",
    "    'previous_update'\n",
    "]]\n",
    "\n",
    "print(\"\\nEmployee Progress Fact Table Preview:\")\n",
    "print(employee_progress_fact.head())\n"
   ]
  },
  {
   "cell_type": "markdown",
   "metadata": {},
   "source": [
    "Create Course Enrollment Fact Table"
   ]
  },
  {
   "cell_type": "code",
   "execution_count": null,
   "metadata": {},
   "outputs": [],
   "source": [
    "# Create Course Enrollment Fact Table\n",
    "course_enroll_fact = transformed_dfs[\"EmployeeProgress\"]\n",
    "\n",
    "# Create a boolean column for completed and has certificate\n",
    "course_enroll_fact['completed_and_has_certificate'] = (course_enroll_fact['progressStatus'] == 'completed') & (course_enroll_fact['has_certificate'] == True)\n",
    "\n",
    "# Calculate counts\n",
    "course_enroll_fact = course_enroll_fact.groupby('courseId').agg(\n",
    "    count_of_enrolled=('userId', 'count'), \n",
    "    count_of_unique_users=('userId', 'nunique'), \n",
    "    count_of_completed_and_has_certificate=('completed_and_has_certificate', 'sum') \n",
    ").reset_index()\n",
    "\n",
    "print(\"\\nCourse Enrollment Fact Table Preview:\")\n",
    "print(course_enroll_fact.head())\n"
   ]
  },
  {
   "cell_type": "code",
   "execution_count": null,
   "metadata": {},
   "outputs": [],
   "source": [
    "# merged_df = transformed_dfs[\"User\"].merge(transformed_dfs[\"UserSkill\"], left_on='id', right_on='userId') \\\n",
    "#                   .merge(transformed_dfs[\"Skill\"], left_on='skillId', right_on='id') \\\n",
    "#                   .merge(transformed_dfs[\"Designation\"], left_on='designationId', right_on='id', suffixes=('', '_designation'))\n",
    "# print(merged_df)\n",
    "# # Create the pivot table\n",
    "# pivot_table = pd.pivot_table(\n",
    "#     merged_df,\n",
    "#     index='designationId',\n",
    "#     columns='name',  # Skill names will be in columns\n",
    "#     values='userId',       # Count of users\n",
    "#     aggfunc='count',       # Count users per skill per designation\n",
    "#     fill_value=0           # Fill missing values with 0\n",
    "# )\n",
    "\n",
    "# # Reset index to make 'designationId' a column again\n",
    "# pivot_table.reset_index(inplace=True)\n",
    "# pivot_table"
   ]
  },
  {
   "cell_type": "code",
   "execution_count": null,
   "metadata": {},
   "outputs": [],
   "source": [
    "# pip install seaborn matplotlib"
   ]
  },
  {
   "cell_type": "code",
   "execution_count": 115,
   "metadata": {},
   "outputs": [
    {
     "data": {
      "image/png": "[encoded data removed]",
      "text/plain": [
       "<Figure size 1000x600 with 2 Axes>"
      ]
     },
     "metadata": {},
     "output_type": "display_data"
    }
   ],
   "source": [
    "# import pandas as pd\n",
    "# import seaborn as sns\n",
    "# import matplotlib.pyplot as plt\n",
    "\n",
    "# merged_df = transformed_dfs[\"User\"].merge(transformed_dfs[\"UserSkill\"], left_on='id', right_on='userId') \\\n",
    "#                   .merge(transformed_dfs[\"Skill\"], left_on='skillId', right_on='id') \\\n",
    "#                   .merge(transformed_dfs[\"Designation\"], left_on='designationId', right_on='id', suffixes=('', '_designation'))\n",
    "\n",
    "# pivot_table = pd.pivot_table(\n",
    "#     merged_df,\n",
    "#     index='name_designation',  # Use the designation name instead of ID\n",
    "#     columns='name',\n",
    "#     values='userId',\n",
    "#     aggfunc='count',\n",
    "#     fill_value=0\n",
    "# )\n",
    "\n",
    "# pivot_table.reset_index(inplace=True)\n",
    "\n",
    "# heatmap_data = pivot_table.set_index('name_designation')\n",
    "\n",
    "# top_skills = heatmap_data.sum().nlargest(10).index\n",
    "# heatmap_data_top10 = heatmap_data[top_skills]\n",
    "\n",
    "# plt.figure(figsize=(10, 6))\n",
    "# sns.heatmap(heatmap_data_top10, annot=True, fmt='d', cmap='YlGnBu', cbar=True)\n",
    "# plt.title('User Skill Counts by Designation (Top 10 Skills)')\n",
    "# plt.xlabel('Skills')\n",
    "# plt.ylabel('Designation')\n",
    "# plt.xticks(rotation=45)\n",
    "# plt.yticks(rotation=0)\n",
    "# plt.tight_layout()\n",
    "# plt.show()\n"
   ]
  },
  {
   "cell_type": "markdown",
   "metadata": {},
   "source": [
    "Dimension Tables\n",
    "User Dim: ['id', 'username', 'createdAt']\n",
    "Designation Dim: ['id', 'name']\n",
    "Course Dim: ['course_id', 'title', 'difficulty', 'language', 'totalTime', 'totalModules', 'created_at']\n",
    "Skill Dim: ['id', 'name']\n",
    "Fact Tables\n",
    "EmployeeProgress Fact: ['userId', 'courseId', 'designationId', 'progressStatus', 'last_updated', 'modulesCompleted', 'has_certificate', 'previous_update']\n",
    "CourseEnroll Fact:\n",
    "['courseId', 'count_of_enrolled', 'count_of_completed_and_has_certificate'] (where count_of_completed_and_has_certificate counts the records with status \"complete\" and has_certificate is true)\n",
    "Skill Fact: ['userId', 'skillId', 'level', 'designationId', 'courseId']"
   ]
  },
  {
   "cell_type": "code",
   "execution_count": null,
   "metadata": {},
   "outputs": [],
   "source": [
    "# pip install scikit-learn"
   ]
  },
  {
   "cell_type": "code",
   "execution_count": 121,
   "metadata": {},
   "outputs": [
    {
     "name": "stdout",
     "output_type": "stream",
     "text": [
      "Top Course Recommendations:\n",
      "    userId  courseId\n",
      "5        2       101\n",
      "6        2       104\n",
      "7        2       102\n",
      "8        2       103\n",
      "9        2       105\n",
      "10       3       103\n",
      "11       3       101\n",
      "12       3       104\n",
      "13       3       102\n",
      "14       3       105\n"
     ]
    }
   ],
   "source": [
    "# import pandas as pd\n",
    "# from sklearn.model_selection import train_test_split\n",
    "# from sklearn.linear_model import LogisticRegression\n",
    "# import numpy as np\n",
    "\n",
    "# # 1. Create Dummy DataFrames\n",
    "\n",
    "# # Users\n",
    "# users = pd.DataFrame({\n",
    "#     'id': [1, 2, 3, 4],\n",
    "#     'username': ['Alice', 'Bob', 'Charlie', 'David'],\n",
    "#     'designationId': [1, 2, 1, 2],\n",
    "#     'createdAt': pd.to_datetime(['2023-01-01', '2023-01-15', '2023-02-01', '2023-02-10'])\n",
    "# })\n",
    "\n",
    "# # Courses\n",
    "# courses = pd.DataFrame({\n",
    "#     'course_id': [101, 102, 103, 104, 105],\n",
    "#     'title': ['Course A', 'Course B', 'Course C', 'Course D', 'Course E'],\n",
    "#     'difficulty': ['Easy', 'Medium', 'Hard', 'Medium', 'Easy'],\n",
    "#     'language': ['English', 'English', 'Spanish', 'English', 'Spanish'],\n",
    "#     'totalTime': [10, 20, 30, 25, 15],\n",
    "#     'totalModules': [5, 10, 15, 8, 4],\n",
    "#     'created_at': pd.to_datetime(['2023-01-10', '2023-02-20', '2023-03-01', '2023-03-05', '2023-03-10'])\n",
    "# })\n",
    "\n",
    "# # Updated Employee Progress with more balanced entries\n",
    "# employee_progress = pd.DataFrame({\n",
    "#     'userId': [1, 1, 1, 2, 2, 3, 3, 3, 4, 4, 4, 4],\n",
    "#     'courseId': [101, 102, 105, 101, 104, 103, 101, 104, 105, 102, 103, 101],\n",
    "#     'progressStatus': ['Completed', 'Completed', 'Not Started', 'Completed', 'Not Started', \n",
    "#                        'Completed', 'Not Started', 'Not Started', 'Completed', 'Completed', \n",
    "#                        'In-progress', 'Not Started'],\n",
    "#     'last_updated': pd.to_datetime(['2023-02-01', '2023-02-10', '2023-03-01', '2023-02-15', \n",
    "#                                      '2023-03-01', '2023-03-01', '2023-03-01', '2023-03-02',\n",
    "#                                      '2023-03-03', '2023-03-04', '2023-03-05', '2023-03-06']),\n",
    "#     'modulesCompleted': [5, 5, 0, 5, 0, 5, 0, 0, 5, 5, 3, 0],\n",
    "#     'has_certificate': [True, True, False, True, False, True, False, False, True, True, False, False]\n",
    "# })\n",
    "\n",
    "\n",
    "# # Skills\n",
    "# skills = pd.DataFrame({\n",
    "#     'id': [1, 2, 3],\n",
    "#     'name': ['Python', 'Project Management', 'Data Analysis']\n",
    "# })\n",
    "\n",
    "# # User Skills\n",
    "# user_skills = pd.DataFrame({\n",
    "#     'userId': [1, 1, 2, 3, 4],\n",
    "#     'skillId': [1, 2, 1, 3, 1],\n",
    "#     'level': ['Expert', 'Intermediate', 'Beginner', 'Intermediate', 'Expert']\n",
    "# })\n",
    "\n",
    "# # Course Skills\n",
    "# course_skills = pd.DataFrame({\n",
    "#     'courseId': [101, 102, 103, 104, 105],\n",
    "#     'skillId': [1, 2, 1, 3, 1],\n",
    "#     'level': ['Intermediate', 'Beginner', 'Intermediate', 'Expert', 'Expert']\n",
    "# })\n",
    "\n",
    "# # 2. Data Preparation\n",
    "# merged_data = employee_progress.merge(users, left_on='userId', right_on='id', suffixes=('', '_user'))\n",
    "# merged_data = merged_data.merge(courses, left_on='courseId', right_on='course_id', suffixes=('', '_course'))\n",
    "\n",
    "# # 3. Feature Engineering\n",
    "# user_features = merged_data.groupby('userId').agg({\n",
    "#     'modulesCompleted': 'mean',\n",
    "#     'has_certificate': 'mean'\n",
    "# }).reset_index()\n",
    "\n",
    "# user_features.columns = ['userId', 'avgModulesCompleted', 'completionRate']\n",
    "\n",
    "# def calculate_skill_match(user_id):\n",
    "#     user_skill_ids = user_skills[user_skills['userId'] == user_id]['skillId'].unique()\n",
    "#     return len(set(user_skill_ids) & set(course_skills['skillId'].unique()))\n",
    "\n",
    "# user_features['skillMatch'] = user_features['userId'].apply(calculate_skill_match)\n",
    "\n",
    "# # 4. Prepare Training Data\n",
    "# recommendations = []\n",
    "\n",
    "# for user_id in merged_data['userId'].unique():\n",
    "#     user_data = merged_data[merged_data['userId'] == user_id]\n",
    "#     completed_courses = user_data['courseId'].unique()\n",
    "    \n",
    "#     all_courses = courses['course_id'].unique()\n",
    "    \n",
    "#     # Adding a recommendation for a course the user has already completed\n",
    "#     for course in completed_courses:\n",
    "#         recommendations.append({'userId': user_id, 'courseId': course, 'will_complete': 1})\n",
    "    \n",
    "#     # Adding recommendations for courses not completed yet\n",
    "#     courses_to_recommend = [course for course in all_courses if course not in completed_courses]\n",
    "#     for course in courses_to_recommend:\n",
    "#         recommendations.append({'userId': user_id, 'courseId': course, 'will_complete': 0})\n",
    "\n",
    "# recommendations_df = pd.DataFrame(recommendations)\n",
    "\n",
    "# # 5. Combine user features with recommendations\n",
    "# recommendations_df = recommendations_df.merge(user_features, on='userId', how='left')\n",
    "\n",
    "# # 6. Check for class balance\n",
    "# if recommendations_df['will_complete'].nunique() < 2:\n",
    "#     raise ValueError(\"The target variable must contain at least two classes (0 and 1).\")\n",
    "\n",
    "# # Split the data for training\n",
    "# X = recommendations_df[['avgModulesCompleted', 'completionRate', 'skillMatch']]\n",
    "# y = recommendations_df['will_complete']\n",
    "# X_train, X_test, y_train, y_test = train_test_split(X, y, test_size=0.2, random_state=42)\n",
    "\n",
    "# # 7. Train the Model\n",
    "# model = LogisticRegression()\n",
    "# model.fit(X_train, y_train)\n",
    "\n",
    "# # 8. Make Predictions\n",
    "# recommendations_df['predicted_completion'] = model.predict(X)\n",
    "\n",
    "# # 9. Filter Top Recommendations\n",
    "# top_recommendations = recommendations_df[recommendations_df['predicted_completion'] == 1]\n",
    "\n",
    "# print(\"Top Course Recommendations:\")\n",
    "# print(top_recommendations[['userId', 'courseId']])\n"
   ]
  },
  {
   "cell_type": "code",
   "execution_count": 122,
   "metadata": {},
   "outputs": [
    {
     "name": "stdout",
     "output_type": "stream",
     "text": [
      "Predictions:\n",
      "    userId  courseId  will_complete  predicted_completion\n",
      "0        1       101              1                     0\n",
      "1        1       102              1                     0\n",
      "2        1       105              1                     0\n",
      "3        1       103              0                     0\n",
      "4        1       104              0                     0\n",
      "5        2       101              1                     1\n",
      "6        2       104              1                     1\n",
      "7        2       102              0                     1\n",
      "8        2       103              0                     1\n",
      "9        2       105              0                     1\n",
      "10       3       103              1                     1\n",
      "11       3       101              1                     1\n",
      "12       3       104              1                     1\n",
      "13       3       102              0                     1\n",
      "14       3       105              0                     1\n",
      "15       4       105              1                     0\n",
      "16       4       102              1                     0\n",
      "17       4       103              1                     0\n",
      "18       4       101              1                     0\n",
      "19       4       104              0                     0\n",
      "Top Course Recommendations:\n",
      "    userId  courseId\n",
      "5        2       101\n",
      "6        2       104\n",
      "7        2       102\n",
      "8        2       103\n",
      "9        2       105\n",
      "10       3       103\n",
      "11       3       101\n",
      "12       3       104\n",
      "13       3       102\n",
      "14       3       105\n",
      "Counts of predicted completions:\n",
      "predicted_completion\n",
      "0    10\n",
      "1    10\n",
      "Name: count, dtype: int64\n"
     ]
    }
   ],
   "source": [
    "# After making predictions\n",
    "recommendations_df['predicted_completion'] = model.predict(X)\n",
    "\n",
    "# Debugging: Print the predictions\n",
    "print(\"Predictions:\")\n",
    "print(recommendations_df[['userId', 'courseId', 'will_complete', 'predicted_completion']])\n",
    "\n",
    "# 9. Filter Top Recommendations\n",
    "top_recommendations = recommendations_df[recommendations_df['predicted_completion'] == 1]\n",
    "\n",
    "print(\"Top Course Recommendations:\")\n",
    "print(top_recommendations[['userId', 'courseId']])\n",
    "\n",
    "# Additional Debugging: Check the counts of predicted completions\n",
    "print(\"Counts of predicted completions:\")\n",
    "print(recommendations_df['predicted_completion'].value_counts())\n"
   ]
  }
 ],
 "metadata": {
  "kernelspec": {
   "display_name": "Python 3",
   "language": "python",
   "name": "python3"
  },
  "language_info": {
   "codemirror_mode": {
    "name": "ipython",
    "version": 3
   },
   "file_extension": ".py",
   "mimetype": "text/x-python",
   "name": "python",
   "nbconvert_exporter": "python",
   "pygments_lexer": "ipython3",
   "version": "3.12.1"
  }
 },
 "nbformat": 4,
 "nbformat_minor": 2
}
