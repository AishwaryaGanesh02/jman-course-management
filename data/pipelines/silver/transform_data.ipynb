{
 "cells": [
  {
   "cell_type": "code",
   "execution_count": 37,
   "metadata": {},
   "outputs": [],
   "source": [
    "import pandas as pd\n",
    "import os"
   ]
  },
  {
   "cell_type": "markdown",
   "metadata": {},
   "source": [
    "Setting Up Data Directories"
   ]
  },
  {
   "cell_type": "code",
   "execution_count": 38,
   "metadata": {},
   "outputs": [],
   "source": [
    "RAW_DATA_DIR = \"../../data/bronze\"  # Path to the raw data\n",
    "TRANSFORMED_DATA_DIR = \"../../data/silver\"  # Path to save transformed data\n",
    "os.makedirs(TRANSFORMED_DATA_DIR, exist_ok=True)"
   ]
  },
  {
   "cell_type": "markdown",
   "metadata": {},
   "source": [
    "Check number of null and duplicates"
   ]
  },
  {
   "cell_type": "code",
   "execution_count": 39,
   "metadata": {},
   "outputs": [],
   "source": [
    "def count_nulls(file_path):\n",
    "    df = pd.read_csv(file_path)\n",
    "    return df.isnull().sum()\n",
    "\n",
    "def count_duplicates(file_path):\n",
    "    df = pd.read_csv(file_path)\n",
    "    return df.duplicated().sum()"
   ]
  },
  {
   "cell_type": "code",
   "execution_count": 41,
   "metadata": {},
   "outputs": [
    {
     "name": "stdout",
     "output_type": "stream",
     "text": [
      "Null counts for User:\n",
      "id               0\n",
      "username         0\n",
      "passwordHash     0\n",
      "email            0\n",
      "gender           0\n",
      "role             0\n",
      "designationId    1\n",
      "phoneNumber      0\n",
      "createdAt        0\n",
      "updatedAt        0\n",
      "dtype: int64\n",
      "\n",
      "Null counts for Designation:\n",
      "id      0\n",
      "name    0\n",
      "dtype: int64\n",
      "\n",
      "Null counts for Course:\n",
      "course_id       0\n",
      "title           0\n",
      "url             0\n",
      "shortIntro      0\n",
      "difficulty      0\n",
      "language        0\n",
      "totalTime       0\n",
      "totalModules    0\n",
      "created_at      0\n",
      "updated_at      0\n",
      "dtype: int64\n",
      "\n",
      "Null counts for EmployeeProgress:\n",
      "progress_id            0\n",
      "userId                 0\n",
      "courseId               0\n",
      "progressStatus         0\n",
      "last_updated           0\n",
      "modulesCompleted       0\n",
      "certificateProof    1739\n",
      "dtype: int64\n",
      "\n",
      "Null counts for Skill:\n",
      "id      0\n",
      "name    0\n",
      "dtype: int64\n",
      "\n",
      "Null counts for UserSkill:\n",
      "id         0\n",
      "userId     0\n",
      "skillId    0\n",
      "level      0\n",
      "dtype: int64\n",
      "\n",
      "Null counts for DesignationSkill:\n",
      "id               0\n",
      "designationId    0\n",
      "skillId          0\n",
      "dtype: int64\n",
      "\n",
      "Null counts for CourseSkill:\n",
      "id          0\n",
      "courseId    0\n",
      "skillId     0\n",
      "level       0\n",
      "dtype: int64\n",
      "\n",
      "Duplicate counts for User: 0\n",
      "\n",
      "Duplicate counts for Designation: 0\n",
      "\n",
      "Duplicate counts for Course: 0\n",
      "\n",
      "Duplicate counts for EmployeeProgress: 0\n",
      "\n",
      "Duplicate counts for Skill: 0\n",
      "\n",
      "Duplicate counts for UserSkill: 0\n",
      "\n",
      "Duplicate counts for DesignationSkill: 0\n",
      "\n",
      "Duplicate counts for CourseSkill: 0\n",
      "\n"
     ]
    }
   ],
   "source": [
    "tables = [\n",
    "    \"User\", \"Designation\", \"Course\", \"EmployeeProgress\", \n",
    "    \"Skill\", \"UserSkill\", \"DesignationSkill\", \"CourseSkill\"\n",
    "]\n",
    "\n",
    "null_counts_dict = {}\n",
    "duplicate_counts_dict = {}\n",
    "\n",
    "\n",
    "for table in tables:\n",
    "    file_path = os.path.join(RAW_DATA_DIR, f'raw_{table}.csv')\n",
    "    \n",
    "    # Count nulls\n",
    "    null_counts = count_nulls(file_path)\n",
    "    null_counts_dict[table] = null_counts\n",
    "    \n",
    "    # Count duplicates\n",
    "    duplicate_counts = count_duplicates(file_path)\n",
    "    duplicate_counts_dict[table] = duplicate_counts\n",
    "\n",
    "for table, counts in null_counts_dict.items():\n",
    "    print(f\"Null counts for {table}:\\n{counts}\\n\")\n",
    "\n",
    "for table, count in duplicate_counts_dict.items():\n",
    "    print(f\"Duplicate counts for {table}: {count}\\n\")"
   ]
  },
  {
   "cell_type": "markdown",
   "metadata": {},
   "source": [
    "Define required columns for each table"
   ]
  },
  {
   "cell_type": "code",
   "execution_count": 42,
   "metadata": {},
   "outputs": [],
   "source": [
    "tables_reqd_columns = {\n",
    "    \"User\": {\n",
    "        \"file\": \"User.csv\",\n",
    "        \"columns\": [\"id\", \"username\", \"designationId\", \"createdAt\"]\n",
    "    },\n",
    "    \"Designation\": {\n",
    "        \"file\": \"Designation.csv\",\n",
    "        \"columns\": [\"id\", \"name\"]\n",
    "    },\n",
    "    \"Course\": {\n",
    "        \"file\": \"Course.csv\",\n",
    "        \"columns\": [\"course_id\", \"title\", \"difficulty\", \"language\", \"totalTime\", \"totalModules\", \"created_at\"]\n",
    "    },\n",
    "    \"EmployeeProgress\": {\n",
    "        \"file\": \"EmployeeProgress.csv\",\n",
    "        \"columns\": [\"userId\", \"courseId\", \"progressStatus\", \"last_updated\", \"modulesCompleted\", \"certificateProof\"]\n",
    "    },\n",
    "    \"Skill\": {\n",
    "        \"file\": \"Skill.csv\",\n",
    "        \"columns\": [\"id\", \"name\"]\n",
    "    },\n",
    "    \"UserSkill\": {\n",
    "        \"file\": \"UserSkill.csv\",\n",
    "        \"columns\": [\"userId\", \"skillId\", \"level\"]\n",
    "    },\n",
    "    \"DesignationSkill\": {\n",
    "        \"file\": \"DesignationSkill.csv\",\n",
    "        \"columns\": [\"designationId\", \"skillId\"]\n",
    "    },\n",
    "    \"CourseSkill\": {\n",
    "        \"file\": \"CourseSkill.csv\",\n",
    "        \"columns\": [\"courseId\", \"skillId\", \"level\"]\n",
    "    }\n",
    "}\n"
   ]
  },
  {
   "cell_type": "markdown",
   "metadata": {},
   "source": [
    "Data Preprocessing: Removing Nulls, Selecting Required Columns, and Type Conversion"
   ]
  },
  {
   "cell_type": "code",
   "execution_count": 49,
   "metadata": {},
   "outputs": [],
   "source": [
    "cleaned_dfs = {}\n",
    "\n",
    "for model, info in tables_reqd_columns.items():\n",
    "    file_path = os.path.join(RAW_DATA_DIR, f'raw_{info[\"file\"]}')\n",
    "    df = pd.read_csv(file_path)\n",
    "\n",
    "    df_cleaned = df[info[\"columns\"]].copy() \n",
    "\n",
    "    for col in df_cleaned.columns:\n",
    "        if df_cleaned[col].dtype == 'object': \n",
    "            df_cleaned[col] = df_cleaned[col].astype('category') \n",
    "        elif df_cleaned[col].dtype == 'int64':  \n",
    "            df_cleaned[col] = df_cleaned[col].astype('Int64')  \n",
    "    \n",
    "    if model == \"User\":\n",
    "        df_cleaned = df_cleaned.dropna()\n",
    "\n",
    "    if 'designationId' in df_cleaned.columns:\n",
    "        df_cleaned['designationId'] = df_cleaned['designationId'].astype('Int64')  \n",
    "\n",
    "    if model == \"User\":\n",
    "        valid_user_ids = df_cleaned['id'].unique()  \n",
    "\n",
    "    if model == \"EmployeeProgress\":\n",
    "        df_cleaned['has_certificate'] = df_cleaned['certificateProof'].notnull().astype(int)\n",
    "        df_cleaned = df_cleaned.drop(columns=['certificateProof'])\n",
    "        if 'userId' in df_cleaned.columns:  \n",
    "            df_cleaned = df_cleaned[df_cleaned['userId'].isin(valid_user_ids)]\n",
    "\n",
    "    if model == \"UserSkill\":\n",
    "        if 'userId' in df_cleaned.columns:  \n",
    "            df_cleaned = df_cleaned[df_cleaned['userId'].isin(valid_user_ids)]  \n",
    "\n",
    "    cleaned_dfs[model] = df_cleaned"
   ]
  },
  {
   "cell_type": "markdown",
   "metadata": {},
   "source": [
    "Exporting Cleaned Data to CSV"
   ]
  },
  {
   "cell_type": "code",
   "execution_count": 50,
   "metadata": {},
   "outputs": [
    {
     "name": "stdout",
     "output_type": "stream",
     "text": [
      "All data cleaned and saved to the transformed folder!\n"
     ]
    }
   ],
   "source": [
    "for model, df in cleaned_dfs.items():\n",
    "    transformed_file_path = os.path.join(TRANSFORMED_DATA_DIR, f\"prep_{model}.csv\")\n",
    "    df.to_csv(transformed_file_path, index=False)\n",
    "\n",
    "print(\"All data cleaned and saved to the transformed folder!\")\n"
   ]
  },
  {
   "cell_type": "code",
   "execution_count": 51,
   "metadata": {},
   "outputs": [
    {
     "name": "stdout",
     "output_type": "stream",
     "text": [
      "User Index(['id', 'username', 'designationId', 'createdAt'], dtype='object')\n",
      "Designation Index(['id', 'name'], dtype='object')\n",
      "Course Index(['course_id', 'title', 'difficulty', 'language', 'totalTime',\n",
      "       'totalModules', 'created_at'],\n",
      "      dtype='object')\n",
      "EmployeeProgress Index(['userId', 'courseId', 'progressStatus', 'last_updated',\n",
      "       'modulesCompleted', 'has_certificate'],\n",
      "      dtype='object')\n",
      "Skill Index(['id', 'name'], dtype='object')\n",
      "UserSkill Index(['userId', 'skillId', 'level'], dtype='object')\n",
      "DesignationSkill Index(['designationId', 'skillId'], dtype='object')\n",
      "CourseSkill Index(['courseId', 'skillId', 'level'], dtype='object')\n"
     ]
    }
   ],
   "source": [
    "for model, df in cleaned_dfs.items():\n",
    "    print(model, df.columns)"
   ]
  }
 ],
 "metadata": {
  "kernelspec": {
   "display_name": "Python 3",
   "language": "python",
   "name": "python3"
  },
  "language_info": {
   "codemirror_mode": {
    "name": "ipython",
    "version": 3
   },
   "file_extension": ".py",
   "mimetype": "text/x-python",
   "name": "python",
   "nbconvert_exporter": "python",
   "pygments_lexer": "ipython3",
   "version": "3.12.4"
  }
 },
 "nbformat": 4,
 "nbformat_minor": 2
}
