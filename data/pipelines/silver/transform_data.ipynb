{
 "cells": [
  {
   "cell_type": "code",
   "execution_count": 4,
   "metadata": {},
   "outputs": [],
   "source": [
    "import pandas as pd\n",
    "import os"
   ]
  },
  {
   "cell_type": "code",
   "execution_count": 5,
   "metadata": {},
   "outputs": [],
   "source": [
    "RAW_DATA_DIR = \"../../data/bronze\"  # Path to the raw data\n",
    "TRANSFORMED_DATA_DIR = \"../../data/silver\"  # Path to save transformed data\n",
    "os.makedirs(TRANSFORMED_DATA_DIR, exist_ok=True)"
   ]
  },
  {
   "cell_type": "code",
   "execution_count": 6,
   "metadata": {},
   "outputs": [],
   "source": [
    "def count_nulls(file_path):\n",
    "    df = pd.read_csv(file_path)\n",
    "    null_counts = df.isnull().sum()\n",
    "    return null_counts[null_counts > 0]"
   ]
  },
  {
   "cell_type": "code",
   "execution_count": 7,
   "metadata": {},
   "outputs": [
    {
     "name": "stdout",
     "output_type": "stream",
     "text": [
      "Null counts for User:\n",
      "Series([], dtype: int64)\n",
      "\n",
      "Null counts for Designation:\n",
      "Series([], dtype: int64)\n",
      "\n",
      "Null counts for Course:\n",
      "Series([], dtype: int64)\n",
      "\n",
      "Null counts for EmployeeProgress:\n",
      "certificateProof    14\n",
      "dtype: int64\n",
      "\n",
      "Null counts for Skill:\n",
      "Series([], dtype: int64)\n",
      "\n",
      "Null counts for UserSkill:\n",
      "Series([], dtype: int64)\n",
      "\n",
      "Null counts for DesignationSkill:\n",
      "Series([], dtype: int64)\n",
      "\n",
      "Null counts for CourseSkill:\n",
      "Series([], dtype: int64)\n",
      "\n"
     ]
    }
   ],
   "source": [
    "tables = [\n",
    "    \"User\", \"Designation\", \"Course\", \"EmployeeProgress\", \n",
    "    \"Skill\", \"UserSkill\", \"DesignationSkill\", \"CourseSkill\"\n",
    "]\n",
    "\n",
    "null_counts_dict = {}\n",
    "\n",
    "for table in tables:\n",
    "    file_path = os.path.join(RAW_DATA_DIR, f'{table}.csv')  # Read from the raw directory\n",
    "    null_counts = count_nulls(file_path)\n",
    "    null_counts_dict[table] = null_counts\n",
    "\n",
    "for table, counts in null_counts_dict.items():\n",
    "    print(f\"Null counts for {table}:\\n{counts}\\n\")"
   ]
  },
  {
   "cell_type": "code",
   "execution_count": 8,
   "metadata": {},
   "outputs": [],
   "source": [
    "# Cell 4: Define required columns for each table\n",
    "tables_reqd_columns = {\n",
    "    \"User\": {\n",
    "        \"file\": \"User.csv\",\n",
    "        \"columns\": [\"id\", \"username\", \"email\", \"role\", \"designationId\", \"createdAt\", \"updatedAt\"]\n",
    "    },\n",
    "    \"Designation\": {\n",
    "        \"file\": \"Designation.csv\",\n",
    "        \"columns\": [\"id\", \"name\"]\n",
    "    },\n",
    "    \"Course\": {\n",
    "        \"file\": \"Course.csv\",\n",
    "        \"columns\": [\"course_id\", \"title\", \"difficulty\", \"language\", \"totalTime\", \"totalModules\", \"created_at\", \"updated_at\"]\n",
    "    },\n",
    "    \"EmployeeProgress\": {\n",
    "        \"file\": \"EmployeeProgress.csv\",\n",
    "        \"columns\": [\"userId\", \"courseId\", \"progressStatus\", \"last_updated\", \"modulesCompleted\"]\n",
    "    },\n",
    "    \"Skill\": {\n",
    "        \"file\": \"Skill.csv\",\n",
    "        \"columns\": [\"id\", \"name\"]\n",
    "    },\n",
    "    \"UserSkill\": {\n",
    "        \"file\": \"UserSkill.csv\",\n",
    "        \"columns\": [\"userId\", \"skillId\", \"level\"]\n",
    "    },\n",
    "    \"DesignationSkill\": {\n",
    "        \"file\": \"DesignationSkill.csv\",\n",
    "        \"columns\": [\"designationId\", \"skillId\"]\n",
    "    },\n",
    "    \"CourseSkill\": {\n",
    "        \"file\": \"CourseSkill.csv\",\n",
    "        \"columns\": [\"courseId\", \"skillId\", \"level\"]\n",
    "    }\n",
    "}\n"
   ]
  },
  {
   "cell_type": "code",
   "execution_count": 9,
   "metadata": {},
   "outputs": [],
   "source": [
    "cleaned_dfs = {}\n",
    "\n",
    "for model, info in tables_reqd_columns.items():\n",
    "    file_path = os.path.join(RAW_DATA_DIR, info[\"file\"])\n",
    "    df = pd.read_csv(file_path)\n",
    "\n",
    "    # Select required columns\n",
    "    df_cleaned = df[info[\"columns\"]].copy() \n",
    "\n",
    "    # Convert data types\n",
    "    for col in df_cleaned.columns:\n",
    "        if df_cleaned[col].dtype == 'object': \n",
    "            df_cleaned.loc[:, col] = df_cleaned[col].astype('category') \n",
    "        elif df_cleaned[col].dtype == 'int64':  \n",
    "            df_cleaned.loc[:, col] = df_cleaned[col].astype('Int64')  \n",
    "\n",
    "    # Drop rows with nulls for User table\n",
    "    if model == \"User\":\n",
    "        df_cleaned = df_cleaned.dropna()\n",
    "\n",
    "    cleaned_dfs[model] = df_cleaned\n"
   ]
  },
  {
   "cell_type": "code",
   "execution_count": 10,
   "metadata": {},
   "outputs": [
    {
     "name": "stdout",
     "output_type": "stream",
     "text": [
      "All data cleaned and saved to the transformed folder!\n"
     ]
    }
   ],
   "source": [
    "for model, df in cleaned_dfs.items():\n",
    "    transformed_file_path = os.path.join(TRANSFORMED_DATA_DIR, f\"prep_{model}.csv\")\n",
    "    df.to_csv(transformed_file_path, index=False)\n",
    "\n",
    "print(\"All data cleaned and saved to the transformed folder!\")\n"
   ]
  }
 ],
 "metadata": {
  "kernelspec": {
   "display_name": "Python 3",
   "language": "python",
   "name": "python3"
  },
  "language_info": {
   "codemirror_mode": {
    "name": "ipython",
    "version": 3
   },
   "file_extension": ".py",
   "mimetype": "text/x-python",
   "name": "python",
   "nbconvert_exporter": "python",
   "pygments_lexer": "ipython3",
   "version": "3.12.1"
  }
 },
 "nbformat": 4,
 "nbformat_minor": 2
}
