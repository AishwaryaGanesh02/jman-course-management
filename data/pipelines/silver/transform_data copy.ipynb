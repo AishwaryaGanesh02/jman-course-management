{
 "cells": [
  {
   "cell_type": "markdown",
   "metadata": {},
   "source": [
    "| Column Name          | Data Type   | Description                                   |\n",
    "|----------------------|-------------|-----------------------------------------------|\n",
    "| userId               | Integer     | Unique identifier for each user               |\n",
    "| courseId             | Integer     | Unique identifier for each course             |\n",
    "| progressStatus       | String      | Current status of the user in the course (e.g., Completed, In-progress, Not Started) |\n",
    "| totalCourses         | Integer     | Total courses completed by the user           |\n",
    "| averageProgress      | Float       | Average progress of the user across courses   |\n",
    "| skillCount           | Integer     | Count of unique skills the user has           |\n",
    "| popularityScore      | Integer     | Popularity score of the course                |\n",
    "| difficulty           | String      | Difficulty level of the course                |\n",
    "| language             | String      | Language of the course                        |\n",
    "| totalTime            | Integer     | Total time to complete the course (in hours) |\n",
    "| totalModules         | Integer     | Total modules in the course                   |\n",
    "| skillRelevanceScore  | Float       | Score indicating how relevant the user's skills are to the course (could be a calculated value based on matching skills) |\n",
    "| has_certificate       | Boolean     | Whether the user has a certificate for the course (for label in classification) |\n"
   ]
  },
  {
   "cell_type": "code",
   "execution_count": 6,
   "metadata": {},
   "outputs": [
    {
     "name": "stdout",
     "output_type": "stream",
     "text": [
      "   userId  skillId   skillName userSkillLevel\n",
      "0       1      101      Python       Beginner\n",
      "1       2      102        Java   Intermediate\n",
      "2       3      103         C++       Advanced\n",
      "3       1      101      Python           None\n",
      "4       2      104         SQL           None\n",
      "5     201      102        Java       Beginner\n",
      "6     202      105  JavaScript   Intermediate\n",
      "7     300      105  JavaScript   Intermediate\n",
      "8     203      105  JavaScript   Intermediate\n"
     ]
    }
   ],
   "source": [
    "import pandas as pd\n",
    "\n",
    "# Sample DataFrames\n",
    "UserSkill = pd.DataFrame({\n",
    "    'userId': [1, 2, 3],\n",
    "    'skillId': [101, 102, 103],\n",
    "    'level': ['Beginner', 'Intermediate', 'Advanced']\n",
    "})\n",
    "\n",
    "DesignationSkill = pd.DataFrame({\n",
    "    'designationId': [1, 2],\n",
    "    'skillId': [101, 104]\n",
    "})\n",
    "\n",
    "CourseSkill = pd.DataFrame({\n",
    "    'courseId': [201, 202, 300, 203],\n",
    "    'skillId': [102, 105, 105, 105],\n",
    "    'level': ['Beginner', 'Intermediate', 'Intermediate', 'Intermediate']\n",
    "})\n",
    "\n",
    "Skill = pd.DataFrame({\n",
    "    'id': [101, 102, 103, 104, 105],\n",
    "    'name': ['Python', 'Java', 'C++', 'SQL', 'JavaScript']\n",
    "})\n",
    "user_skills_merged = UserSkill.merge(Skill, left_on='skillId', right_on='id', how='left')\n",
    "user_skills_merged = user_skills_merged[['userId', 'id', 'name', 'level']]\n",
    "user_skills_merged.columns = ['userId', 'skillId', 'skillName', 'userSkillLevel']\n",
    "designation_skills_merged = DesignationSkill.merge(Skill, left_on='skillId', right_on='id', how='left')\n",
    "designation_skills_merged = designation_skills_merged[['designationId', 'id', 'name']]\n",
    "designation_skills_merged.columns = ['userId', 'skillId', 'skillName']\n",
    "designation_skills_merged['userSkillLevel'] = None  # No level for designation skills\n",
    "course_skills_merged = CourseSkill.merge(Skill, left_on='skillId', right_on='id', how='left')\n",
    "course_skills_merged = course_skills_merged[['courseId', 'skillId', 'name', 'level']]\n",
    "course_skills_merged.columns = ['userId', 'skillId', 'skillName', 'courseSkillLevel']\n",
    "# Add userSkillLevel to course skills\n",
    "course_skills_merged['userSkillLevel'] = course_skills_merged['courseSkillLevel']\n",
    "\n",
    "# Concatenate all DataFrames\n",
    "final_result = pd.concat([user_skills_merged, designation_skills_merged, course_skills_merged], ignore_index=True)\n",
    "\n",
    "# Drop any unnecessary columns\n",
    "final_result = final_result.drop(columns=['courseSkillLevel'], errors='ignore')\n",
    "\n",
    "# Display the final result\n",
    "print(final_result)\n"
   ]
  },
  {
   "cell_type": "markdown",
   "metadata": {},
   "source": [
    "Setting Up Data Directories"
   ]
  },
  {
   "cell_type": "code",
   "execution_count": 3,
   "metadata": {},
   "outputs": [
    {
     "name": "stdout",
     "output_type": "stream",
     "text": [
      "Skill Fact Table:\n",
      "   userId  skillId    user_level  designationId  courseId skill_name\n",
      "0       1        1      Beginner              1       101     Python\n",
      "1       1        2  Intermediate              1       102       Java\n",
      "2       2        1      Beginner              1       101     Python\n",
      "3       3        3        Expert              2       103        SQL\n",
      "4       4        1      Beginner              1       101     Python\n"
     ]
    },
    {
     "name": "stderr",
     "output_type": "stream",
     "text": [
      "C:\\Users\\AishwaryaGanesh\\AppData\\Local\\Temp\\ipykernel_15748\\2009973120.py:43: SettingWithCopyWarning: \n",
      "A value is trying to be set on a copy of a slice from a DataFrame\n",
      "\n",
      "See the caveats in the documentation: https://pandas.pydata.org/pandas-docs/stable/user_guide/indexing.html#returning-a-view-versus-a-copy\n",
      "  fact_table.rename(columns={'name': 'skill_name', 'level': 'user_level'}, inplace=True)\n"
     ]
    }
   ],
   "source": [
    "import pandas as pd\n",
    "\n",
    "# Sample data creation (replace this with your actual data loading)\n",
    "skills = pd.DataFrame({\n",
    "    'id': [1, 2, 3],\n",
    "    'name': ['Python', 'Java', 'SQL'],\n",
    "})\n",
    "\n",
    "user_skills = pd.DataFrame({\n",
    "    'userId': [1, 1, 2, 3, 4],\n",
    "    'skillId': [1, 2, 1, 3, 1],\n",
    "    'level': ['Beginner', 'Intermediate', 'Beginner', 'Expert', 'Beginner'],\n",
    "})\n",
    "\n",
    "designation_skills = pd.DataFrame({\n",
    "    'designationId': [1, 1, 2],\n",
    "    'skillId': [1, 2, 3],\n",
    "})\n",
    "\n",
    "course_skills = pd.DataFrame({\n",
    "    'courseId': [101, 102, 103],\n",
    "    'skillId': [1, 2, 3],\n",
    "    'level': ['Beginner', 'Intermediate', 'Advanced'],\n",
    "})\n",
    "\n",
    "# Sample User Data (replace this with your actual data loading)\n",
    "users = pd.DataFrame({\n",
    "    'id': [1, 2, 3, 4],\n",
    "    'username': ['user1', 'user2', 'user3', 'user4'],\n",
    "    'designationId': [1, 1, 2, 2],\n",
    "})\n",
    "\n",
    "# Step 1: Merge DataFrames\n",
    "merged = user_skills.merge(skills, left_on='skillId', right_on='id', suffixes=('', '_skill'))\n",
    "merged = merged.merge(designation_skills, left_on='skillId', right_on='skillId', suffixes=('', '_designation'))\n",
    "merged = merged.merge(course_skills, left_on='skillId', right_on='skillId', suffixes=('', '_course'))\n",
    "merged = merged.merge(users, left_on='userId', right_on='id', suffixes=('', '_user'))\n",
    "\n",
    "# Step 2: Create a fact table\n",
    "fact_table = merged[['userId', 'skillId', 'level', 'designationId', 'courseId', 'name']]  # Include necessary fields\n",
    "\n",
    "# Rename columns for clarity\n",
    "fact_table.rename(columns={'name': 'skill_name', 'level': 'user_level'}, inplace=True)\n",
    "\n",
    "# Debug: Check the fact table\n",
    "print(\"Skill Fact Table:\")\n",
    "print(fact_table)\n",
    "\n",
    "# Step 3: Export to CSV\n",
    "fact_table.to_csv('skill_fact_table.csv', index=False)\n"
   ]
  },
  {
   "cell_type": "markdown",
   "metadata": {},
   "source": [
    "Check number of null and duplicates"
   ]
  },
  {
   "cell_type": "code",
   "execution_count": 39,
   "metadata": {},
   "outputs": [],
   "source": [
    "def count_nulls(file_path):\n",
    "    df = pd.read_csv(file_path)\n",
    "    return df.isnull().sum()\n",
    "\n",
    "def count_duplicates(file_path):\n",
    "    df = pd.read_csv(file_path)\n",
    "    return df.duplicated().sum()"
   ]
  },
  {
   "cell_type": "code",
   "execution_count": 41,
   "metadata": {},
   "outputs": [
    {
     "name": "stdout",
     "output_type": "stream",
     "text": [
      "Null counts for User:\n",
      "id               0\n",
      "username         0\n",
      "passwordHash     0\n",
      "email            0\n",
      "gender           0\n",
      "role             0\n",
      "designationId    1\n",
      "phoneNumber      0\n",
      "createdAt        0\n",
      "updatedAt        0\n",
      "dtype: int64\n",
      "\n",
      "Null counts for Designation:\n",
      "id      0\n",
      "name    0\n",
      "dtype: int64\n",
      "\n",
      "Null counts for Course:\n",
      "course_id       0\n",
      "title           0\n",
      "url             0\n",
      "shortIntro      0\n",
      "difficulty      0\n",
      "language        0\n",
      "totalTime       0\n",
      "totalModules    0\n",
      "created_at      0\n",
      "updated_at      0\n",
      "dtype: int64\n",
      "\n",
      "Null counts for EmployeeProgress:\n",
      "progress_id            0\n",
      "userId                 0\n",
      "courseId               0\n",
      "progressStatus         0\n",
      "last_updated           0\n",
      "modulesCompleted       0\n",
      "certificateProof    1739\n",
      "dtype: int64\n",
      "\n",
      "Null counts for Skill:\n",
      "id      0\n",
      "name    0\n",
      "dtype: int64\n",
      "\n",
      "Null counts for UserSkill:\n",
      "id         0\n",
      "userId     0\n",
      "skillId    0\n",
      "level      0\n",
      "dtype: int64\n",
      "\n",
      "Null counts for DesignationSkill:\n",
      "id               0\n",
      "designationId    0\n",
      "skillId          0\n",
      "dtype: int64\n",
      "\n",
      "Null counts for CourseSkill:\n",
      "id          0\n",
      "courseId    0\n",
      "skillId     0\n",
      "level       0\n",
      "dtype: int64\n",
      "\n",
      "Duplicate counts for User: 0\n",
      "\n",
      "Duplicate counts for Designation: 0\n",
      "\n",
      "Duplicate counts for Course: 0\n",
      "\n",
      "Duplicate counts for EmployeeProgress: 0\n",
      "\n",
      "Duplicate counts for Skill: 0\n",
      "\n",
      "Duplicate counts for UserSkill: 0\n",
      "\n",
      "Duplicate counts for DesignationSkill: 0\n",
      "\n",
      "Duplicate counts for CourseSkill: 0\n",
      "\n"
     ]
    }
   ],
   "source": [
    "tables = [\n",
    "    \"User\", \"Designation\", \"Course\", \"EmployeeProgress\", \n",
    "    \"Skill\", \"UserSkill\", \"DesignationSkill\", \"CourseSkill\"\n",
    "]\n",
    "\n",
    "null_counts_dict = {}\n",
    "duplicate_counts_dict = {}\n",
    "\n",
    "\n",
    "for table in tables:\n",
    "    file_path = os.path.join(RAW_DATA_DIR, f'raw_{table}.csv')\n",
    "    \n",
    "    # Count nulls\n",
    "    null_counts = count_nulls(file_path)\n",
    "    null_counts_dict[table] = null_counts\n",
    "    \n",
    "    # Count duplicates\n",
    "    duplicate_counts = count_duplicates(file_path)\n",
    "    duplicate_counts_dict[table] = duplicate_counts\n",
    "\n",
    "# Print null counts\n",
    "for table, counts in null_counts_dict.items():\n",
    "    print(f\"Null counts for {table}:\\n{counts}\\n\")\n",
    "\n",
    "# Print duplicate counts\n",
    "for table, count in duplicate_counts_dict.items():\n",
    "    print(f\"Duplicate counts for {table}: {count}\\n\")"
   ]
  },
  {
   "cell_type": "markdown",
   "metadata": {},
   "source": [
    "Define required columns for each table"
   ]
  },
  {
   "cell_type": "code",
   "execution_count": 42,
   "metadata": {},
   "outputs": [],
   "source": [
    "tables_reqd_columns = {\n",
    "    \"User\": {\n",
    "        \"file\": \"User.csv\",\n",
    "        \"columns\": [\"id\", \"username\", \"designationId\", \"createdAt\"]\n",
    "    },\n",
    "    \"Designation\": {\n",
    "        \"file\": \"Designation.csv\",\n",
    "        \"columns\": [\"id\", \"name\"]\n",
    "    },\n",
    "    \"Course\": {\n",
    "        \"file\": \"Course.csv\",\n",
    "        \"columns\": [\"course_id\", \"title\", \"difficulty\", \"language\", \"totalTime\", \"totalModules\", \"created_at\"]\n",
    "    },\n",
    "    \"EmployeeProgress\": {\n",
    "        \"file\": \"EmployeeProgress.csv\",\n",
    "        \"columns\": [\"userId\", \"courseId\", \"progressStatus\", \"last_updated\", \"modulesCompleted\", \"certificateProof\"]\n",
    "    },\n",
    "    \"Skill\": {\n",
    "        \"file\": \"Skill.csv\",\n",
    "        \"columns\": [\"id\", \"name\"]\n",
    "    },\n",
    "    \"UserSkill\": {\n",
    "        \"file\": \"UserSkill.csv\",\n",
    "        \"columns\": [\"userId\", \"skillId\", \"level\"]\n",
    "    },\n",
    "    \"DesignationSkill\": {\n",
    "        \"file\": \"DesignationSkill.csv\",\n",
    "        \"columns\": [\"designationId\", \"skillId\"]\n",
    "    },\n",
    "    \"CourseSkill\": {\n",
    "        \"file\": \"CourseSkill.csv\",\n",
    "        \"columns\": [\"courseId\", \"skillId\", \"level\"]\n",
    "    }\n",
    "}\n"
   ]
  },
  {
   "cell_type": "markdown",
   "metadata": {},
   "source": [
    "Data Preprocessing: Removing Nulls, Selecting Required Columns, and Type Conversion"
   ]
  },
  {
   "cell_type": "code",
   "execution_count": 49,
   "metadata": {},
   "outputs": [],
   "source": [
    "cleaned_dfs = {}\n",
    "\n",
    "# Assuming 'tables_reqd_columns' is defined somewhere in your code\n",
    "for model, info in tables_reqd_columns.items():\n",
    "    file_path = os.path.join(RAW_DATA_DIR, f'raw_{info[\"file\"]}')\n",
    "    df = pd.read_csv(file_path)\n",
    "\n",
    "    # Select required columns\n",
    "    df_cleaned = df[info[\"columns\"]].copy() \n",
    "\n",
    "    # Convert data types\n",
    "    for col in df_cleaned.columns:\n",
    "        if df_cleaned[col].dtype == 'object': \n",
    "            df_cleaned[col] = df_cleaned[col].astype('category') \n",
    "        elif df_cleaned[col].dtype == 'int64':  \n",
    "            df_cleaned[col] = df_cleaned[col].astype('Int64')  \n",
    "    \n",
    "    # Drop rows with nulls for User table\n",
    "    if model == \"User\":\n",
    "        df_cleaned = df_cleaned.dropna()\n",
    "\n",
    "    # Convert designationId to int if it exists\n",
    "    if 'designationId' in df_cleaned.columns:\n",
    "        df_cleaned['designationId'] = df_cleaned['designationId'].astype('Int64')  # Use 'int' if preferred\n",
    "\n",
    "    # Handle valid user IDs for filtering in EmployeeProgress and UserSkill\n",
    "    if model == \"User\":\n",
    "        valid_user_ids = df_cleaned['id'].unique()  # Replace 'id' with actual user ID column name\n",
    "\n",
    "    if model == \"EmployeeProgress\":\n",
    "        df_cleaned['has_certificate'] = df_cleaned['certificateProof'].notnull().astype(int)\n",
    "        df_cleaned = df_cleaned.drop(columns=['certificateProof'])\n",
    "        # Filter based on valid user IDs from the User table\n",
    "        if 'userId' in df_cleaned.columns:  # Check if userId exists\n",
    "            df_cleaned = df_cleaned[df_cleaned['userId'].isin(valid_user_ids)]\n",
    "\n",
    "    if model == \"UserSkill\":\n",
    "        # Filter based on valid user IDs from the User table\n",
    "        if 'userId' in df_cleaned.columns:  # Check if userId exists\n",
    "            df_cleaned = df_cleaned[df_cleaned['userId'].isin(valid_user_ids)]  \n",
    "\n",
    "    cleaned_dfs[model] = df_cleaned"
   ]
  },
  {
   "cell_type": "markdown",
   "metadata": {},
   "source": [
    "Exporting Cleaned Data to CSV"
   ]
  },
  {
   "cell_type": "code",
   "execution_count": 50,
   "metadata": {},
   "outputs": [
    {
     "name": "stdout",
     "output_type": "stream",
     "text": [
      "All data cleaned and saved to the transformed folder!\n"
     ]
    }
   ],
   "source": [
    "for model, df in cleaned_dfs.items():\n",
    "    transformed_file_path = os.path.join(TRANSFORMED_DATA_DIR, f\"prep_{model}.csv\")\n",
    "    df.to_csv(transformed_file_path, index=False)\n",
    "\n",
    "print(\"All data cleaned and saved to the transformed folder!\")\n"
   ]
  },
  {
   "cell_type": "code",
   "execution_count": 51,
   "metadata": {},
   "outputs": [
    {
     "name": "stdout",
     "output_type": "stream",
     "text": [
      "User Index(['id', 'username', 'designationId', 'createdAt'], dtype='object')\n",
      "Designation Index(['id', 'name'], dtype='object')\n",
      "Course Index(['course_id', 'title', 'difficulty', 'language', 'totalTime',\n",
      "       'totalModules', 'created_at'],\n",
      "      dtype='object')\n",
      "EmployeeProgress Index(['userId', 'courseId', 'progressStatus', 'last_updated',\n",
      "       'modulesCompleted', 'has_certificate'],\n",
      "      dtype='object')\n",
      "Skill Index(['id', 'name'], dtype='object')\n",
      "UserSkill Index(['userId', 'skillId', 'level'], dtype='object')\n",
      "DesignationSkill Index(['designationId', 'skillId'], dtype='object')\n",
      "CourseSkill Index(['courseId', 'skillId', 'level'], dtype='object')\n"
     ]
    }
   ],
   "source": [
    "for model, df in cleaned_dfs.items():\n",
    "    print(model, df.columns)"
   ]
  },
  {
   "cell_type": "code",
   "execution_count": 23,
   "metadata": {},
   "outputs": [
    {
     "name": "stdout",
     "output_type": "stream",
     "text": [
      "Fact Table:\n",
      "        name name_skill  userId\n",
      "0    Manager     Python       1\n",
      "1    Manager       Java       1\n",
      "2    Manager     Python       2\n",
      "3  Developer        SQL       3\n",
      "4  Developer     Python       4\n"
     ]
    }
   ],
   "source": [
    "# import pandas as pd\n",
    "\n",
    "# # Sample data creation (replace this with your actual data loading)\n",
    "# users = pd.DataFrame({\n",
    "#     'id': [1, 2, 3, 4],\n",
    "#     'username': ['user1', 'user2', 'user3', 'user4'],\n",
    "#     'email': ['email1', 'email2', 'email3', 'email4'],\n",
    "#     'role': ['admin', 'user', 'user', 'user'],\n",
    "#     'designationId': [1, 1, 2, 2],\n",
    "#     'createdAt': pd.to_datetime(['2022-01-01', '2022-02-01', '2022-03-01', '2022-04-01']),\n",
    "#     'updatedAt': pd.to_datetime(['2022-05-01', '2022-05-02', '2022-05-03', '2022-05-04']),\n",
    "# })\n",
    "\n",
    "# designations = pd.DataFrame({\n",
    "#     'id': [1, 2],\n",
    "#     'name': ['Manager', 'Developer'],\n",
    "# })\n",
    "\n",
    "# skills = pd.DataFrame({\n",
    "#     'id': [1, 2, 3],\n",
    "#     'name': ['Python', 'Java', 'SQL'],\n",
    "# })\n",
    "\n",
    "# user_skills = pd.DataFrame({\n",
    "#     'userId': [1, 1, 2, 3, 4],\n",
    "#     'skillId': [1, 2, 1, 3, 1],\n",
    "#     'level': ['Beginner', 'Intermediate', 'Beginner', 'Expert', 'Beginner'],\n",
    "# })\n",
    "\n",
    "# # Step 1: Merge DataFrames\n",
    "# merged = users.merge(designations, left_on='designationId', right_on='id', suffixes=('', '_designation'))\n",
    "# merged = merged.merge(user_skills, left_on='id', right_on='userId', suffixes=('', '_user'))\n",
    "# merged = merged.merge(skills, left_on='skillId', right_on='id', suffixes=('', '_skill'))\n",
    "\n",
    "# # Step 2: Create a fact table\n",
    "# fact_table = merged[['name', 'name_skill', 'userId']]  # Keep designation name, skill name, and userId\n",
    "\n",
    "# # Debug: Check the fact table\n",
    "# print(\"Fact Table:\")\n",
    "# print(fact_table)\n",
    "\n",
    "# # Step 3: Export to CSV\n",
    "# fact_table.to_csv('designation_skill_fact_table.csv', index=False)\n"
   ]
  },
  {
   "cell_type": "code",
   "execution_count": 52,
   "metadata": {},
   "outputs": [
    {
     "ename": "NameError",
     "evalue": "name 'course_skills' is not defined",
     "output_type": "error",
     "traceback": [
      "\u001b[1;31m---------------------------------------------------------------------------\u001b[0m",
      "\u001b[1;31mNameError\u001b[0m                                 Traceback (most recent call last)",
      "Cell \u001b[1;32mIn[52], line 3\u001b[0m\n\u001b[0;32m      1\u001b[0m merged \u001b[38;5;241m=\u001b[39m user_skills\u001b[38;5;241m.\u001b[39mmerge(skills, left_on\u001b[38;5;241m=\u001b[39m\u001b[38;5;124m'\u001b[39m\u001b[38;5;124mskillId\u001b[39m\u001b[38;5;124m'\u001b[39m, right_on\u001b[38;5;241m=\u001b[39m\u001b[38;5;124m'\u001b[39m\u001b[38;5;124mid\u001b[39m\u001b[38;5;124m'\u001b[39m, suffixes\u001b[38;5;241m=\u001b[39m(\u001b[38;5;124m'\u001b[39m\u001b[38;5;124m'\u001b[39m, \u001b[38;5;124m'\u001b[39m\u001b[38;5;124m_skill\u001b[39m\u001b[38;5;124m'\u001b[39m))\n\u001b[0;32m      2\u001b[0m merged \u001b[38;5;241m=\u001b[39m merged\u001b[38;5;241m.\u001b[39mmerge(designation_skills, left_on\u001b[38;5;241m=\u001b[39m\u001b[38;5;124m'\u001b[39m\u001b[38;5;124mskillId\u001b[39m\u001b[38;5;124m'\u001b[39m, right_on\u001b[38;5;241m=\u001b[39m\u001b[38;5;124m'\u001b[39m\u001b[38;5;124mskillId\u001b[39m\u001b[38;5;124m'\u001b[39m, suffixes\u001b[38;5;241m=\u001b[39m(\u001b[38;5;124m'\u001b[39m\u001b[38;5;124m'\u001b[39m, \u001b[38;5;124m'\u001b[39m\u001b[38;5;124m_designation\u001b[39m\u001b[38;5;124m'\u001b[39m))\n\u001b[1;32m----> 3\u001b[0m merged \u001b[38;5;241m=\u001b[39m merged\u001b[38;5;241m.\u001b[39mmerge(\u001b[43mcourse_skills\u001b[49m, left_on\u001b[38;5;241m=\u001b[39m\u001b[38;5;124m'\u001b[39m\u001b[38;5;124mskillId\u001b[39m\u001b[38;5;124m'\u001b[39m, right_on\u001b[38;5;241m=\u001b[39m\u001b[38;5;124m'\u001b[39m\u001b[38;5;124mskillId\u001b[39m\u001b[38;5;124m'\u001b[39m, suffixes\u001b[38;5;241m=\u001b[39m(\u001b[38;5;124m'\u001b[39m\u001b[38;5;124m'\u001b[39m, \u001b[38;5;124m'\u001b[39m\u001b[38;5;124m_course\u001b[39m\u001b[38;5;124m'\u001b[39m))\n\u001b[0;32m      4\u001b[0m merged \u001b[38;5;241m=\u001b[39m merged\u001b[38;5;241m.\u001b[39mmerge(users, left_on\u001b[38;5;241m=\u001b[39m\u001b[38;5;124m'\u001b[39m\u001b[38;5;124muserId\u001b[39m\u001b[38;5;124m'\u001b[39m, right_on\u001b[38;5;241m=\u001b[39m\u001b[38;5;124m'\u001b[39m\u001b[38;5;124mid\u001b[39m\u001b[38;5;124m'\u001b[39m, suffixes\u001b[38;5;241m=\u001b[39m(\u001b[38;5;124m'\u001b[39m\u001b[38;5;124m'\u001b[39m, \u001b[38;5;124m'\u001b[39m\u001b[38;5;124m_user\u001b[39m\u001b[38;5;124m'\u001b[39m))\n\u001b[0;32m      6\u001b[0m \u001b[38;5;66;03m# Step 2: Create a fact table\u001b[39;00m\n",
      "\u001b[1;31mNameError\u001b[0m: name 'course_skills' is not defined"
     ]
    }
   ],
   "source": [
    "merged = user_skills.merge(skills, left_on='skillId', right_on='id', suffixes=('', '_skill'))\n",
    "merged = merged.merge(designation_skills, left_on='skillId', right_on='skillId', suffixes=('', '_designation'))\n",
    "merged = merged.merge(course_skills, left_on='skillId', right_on='skillId', suffixes=('', '_course'))\n",
    "merged = merged.merge(users, left_on='userId', right_on='id', suffixes=('', '_user'))\n",
    "\n",
    "# Step 2: Create a fact table\n",
    "fact_table = merged[['userId', 'skillId', 'level', 'designationId', 'courseId', 'name']]  # Include necessary fields\n",
    "\n",
    "# Rename columns for clarity\n",
    "fact_table.rename(columns={'name': 'skill_name', 'level': 'user_level'}, inplace=True)\n",
    "\n",
    "# Debug: Check the fact table\n",
    "print(\"Skill Fact Table:\")\n",
    "print(fact_table)"
   ]
  }
 ],
 "metadata": {
  "kernelspec": {
   "display_name": "Python 3",
   "language": "python",
   "name": "python3"
  },
  "language_info": {
   "codemirror_mode": {
    "name": "ipython",
    "version": 3
   },
   "file_extension": ".py",
   "mimetype": "text/x-python",
   "name": "python",
   "nbconvert_exporter": "python",
   "pygments_lexer": "ipython3",
   "version": "3.12.4"
  }
 },
 "nbformat": 4,
 "nbformat_minor": 2
}
